{
 "cells": [
  {
   "cell_type": "markdown",
   "metadata": {},
   "source": [
    "# Gráficos 3D: Primera parte"
   ]
  },
  {
   "cell_type": "markdown",
   "metadata": {},
   "source": [
    "## Índice\n",
    "\n",
    "* [Generalidades](#Generalidades)\n",
    "* [La función <samp>plot3d</samp>](#La-función-plot3d)\n",
    "* [La función <samp>parametric_plot3d</samp>](#La-función-parametric_plot3d)"
   ]
  },
  {
   "cell_type": "markdown",
   "metadata": {},
   "source": [
    "## Generalidades\n",
    "\n",
    "Para la realización de gráficos en tres dimensiones, SageMath dispone de una gama bastante amplia de funciones, detallada en la [documentación](http://doc.sagemath.org/html/en/reference/plot3d/sage/plot/plot3d/introduction.html). Vamos a ver en esta guía tan sólo algunas de ellas.\n",
    "\n",
    "Los principios generales de los gráficos en 3D son similares a los de los gráficos bidimensionales. Los objetos gráficos se combinan mediante la suma o la función `sum`. Todos ellos admiten el método `show`, que también actúa como función. Sus opciones más relevantes son:\n",
    "* `aspect_ratio`: terna que indica la proporción entre las escalas usadas en cada una de las tres direcciones del espacio;\n",
    "* `frame`: controla si se traza o no una caja englobando la escena tridimensional.\n",
    "\n",
    "Varias funciones, como <samp>point3d</samp>, <samp>line3d</samp>, <samp>arrow3d</samp>, <samp>polygon3d</samp> o <samp>text3d</samp>, son extensiones de sus homólogas en el caso bidimensional y tienen una sintaxis similar.\n",
    "\n",
    "La siguiente celda ejemplifica estos principios y algunas de las funciones citadas; presenta además la función `sphere` para la representación de esferas:"
   ]
  },
  {
   "cell_type": "code",
   "execution_count": null,
   "metadata": {},
   "outputs": [],
   "source": [
    "# Ejes y planos coordenados\n",
    "e0 = vector((0,0,0)); e1 = vector((3,0,0)); e2 = vector((0,3,0)); e3 = vector((0,0,3))\n",
    "planos = polygon3d([e0,e1,e1+e3,e3], opacity=0.4, color=\"red\")\n",
    "planos += polygon3d([e0,e2,e2+e3,e3], opacity=0.4, color=\"green\")\n",
    "planos += polygon3d([e0,e1,e1+e2,e2], opacity=0.4, color=\"blue\")\n",
    "ejes = sum([arrow3d(e0, pt, color=\"dimgray\", width=2) for pt in [e1,e2,e3]])\n",
    "texto = text3d(\"x\", 1.05*e1) + text3d(\"y\", 1.05*e2) + text3d(\"z\", 1.05*e3)\n",
    "\n",
    "# Línea poligonal salpicada de esferas\n",
    "vertices = [(1.5+cos(t),1.5+sin(t),1.5+sin(3*t)) for t in [0,pi/18..2*pi]]\n",
    "esferas = sum(sphere(pt, 0.1, color=\"goldenrod\") for pt in vertices)\n",
    "linea = line3d(vertices, radius=0.05, color=\"silver\")\n",
    "\n",
    "# Representación de la escena\n",
    "show(ejes + planos + texto + esferas + linea, frame=False)"
   ]
  },
  {
   "cell_type": "markdown",
   "metadata": {},
   "source": [
    "<div style=\"text-align:right\">\n",
    "<a href=#Índice\n",
    "   style=\"padding:0.5em;background:#7d5d3b;color:#ffffff;text-decoration:none;\n",
    "          border:1px solid #54381e;border-radius:5px;\">Volver al índice</a>\n",
    "</div>"
   ]
  },
  {
   "cell_type": "markdown",
   "metadata": {},
   "source": [
    "## La función <samp>plot3d</samp>\n",
    "\n",
    "La misión principal de esta orden es trazar el grafo de una función bivariada $f:D\\subset\\mathbb{R}^2\\to\\mathbb{R}$ sobre un rectángulo $[a_1,b_1]\\times[a_2,b_2]$. Se usa con la siguiente sintaxis:\n",
    "\n",
    "> <samp>plot3d</samp>(<samp>fun</samp>, <samp>rango_x</samp>, <samp>rango_y</samp>, *opciones*), \n",
    "\n",
    "donde:\n",
    "* <samp>fun</samp> es una expresión o una función que proporciona la función $f$, \n",
    "* <samp>rango_x</samp> es un par ($a_1$, $b_1$) o una terna (<samp>x</samp>, $a_1$, $b_1$),\n",
    "* <samp>rango_y</samp> es un par ($a_2$, $b_2$) o una terna (<samp>y</samp>, $a_2$, $b_2$).\n",
    "\n",
    "Indicamos las principales opciones:\n",
    "\n",
    "* <samp>mesh</samp>: opción booleana que indica si se dibuja o no una malla sobre la superficie,\n",
    "* <samp>plot_points</samp>: entero, o par de enteros, que indica el número de puntos en cada dirección en los que evaluar la función;\n",
    "* <samp>opacity</samp>: número entre $0$ y $1$ que controla el grado de opacidad de la superficie (0=transparente, 1=opaca);\n",
    "* <samp>color</samp>: determina el color de la superficie.\n",
    "\n",
    "También es posible añadir las opciones de `show`.\n",
    "\n",
    "Demos algunos ejemplos. La celda siguiente traza y superpone los grafos de las funciones $\\cos(xy)$ y $\\operatorname{sen}(x^2-y^2)$ en el rectángulo $[-\\pi,\\pi]\\times[-\\pi,\\pi]$:"
   ]
  },
  {
   "cell_type": "code",
   "execution_count": null,
   "metadata": {},
   "outputs": [],
   "source": [
    "var(\"x,y\")\n",
    "s1 = plot3d(cos(x*y), (x,-pi,pi), (y,-pi,pi), color=\"green\", opacity=0.5, plot_points=60, mesh=True)\n",
    "s2 = plot3d(sin(x^2-y^2), (x,-pi,pi), (y,-pi,pi), color=\"brown\", plot_points=80)\n",
    "show(s1+s2)"
   ]
  },
  {
   "cell_type": "markdown",
   "metadata": {},
   "source": [
    "En el ejemplo previo, cada superficie tiene un único color. Para policromar la superficie, se usa la opción `color` en la forma `color=(col, gama)`, donde `col` es una función bivariada con recorrido en el intervalo $[0,1]$ y `gama` es una gama de colores. Dentro de la gama, cada color está indexado mediante un número entre $0$ y $1$. Por ello, el punto $(x,y,z)$ de la superficie recibe el color que corresponde al número $\\mathtt{col}(x,y)$. \n",
    "\n",
    "La orden `sorted(colormaps)` proporciona una lista ordenada alfabéticamente de las gamas predefinidas de colores. Si <samp>'gama'</samp> es uno de los elementos de esta lista, entonces `colormaps.gama` es el nombre correcto de la gama que hay que usar en la opción `color`.\n",
    "\n",
    "Repetimos el ejemplo anterior. Una de las superficies se colorea con tonos verdes elegidos aleatoriamente; la otra superficie se pinta en tonos rojos siguiendo un patrón determinado (al punto $(x,y,z)$ se le asigna el tono de rojo que corresponde a `(x^2+y^2)%1`, esto es, la parte fraccionaria del número real $x^2+y^2$):"
   ]
  },
  {
   "cell_type": "code",
   "execution_count": null,
   "metadata": {},
   "outputs": [],
   "source": [
    "s1 = plot3d(cos(x*y), (x,-pi,pi), (y,-pi,pi), \n",
    "            color=(lambda x,y: random(), colormaps.Greens), \n",
    "            opacity=0.5, plot_points=60, mesh=True)\n",
    "s2 = plot3d(sin(x^2-y^2), (x,-pi,pi), (y,-pi,pi), \n",
    "            color=(lambda x,y: (x^2+y^2)%1, colormaps.Reds), \n",
    "            plot_points=80)\n",
    "show(s1+s2)"
   ]
  },
  {
   "cell_type": "markdown",
   "metadata": {},
   "source": [
    "Dibujamos ahora la superficie $z=f(x,y)$, con\n",
    "$$\n",
    "   f(x,y) = \\frac{2x+3y^2}{(x^2+y^2+1)^2}\n",
    "$$\n",
    "en el rectángulo $[-2,2]\\times[-2,2]$. Para hacernos una idea más cabal de la superficie, pintamos cada punto $(x,y,f(x,y))$ de acuerdo con el valor de $f$. Para definir la función que asigna el color, se necesita determinar previamente el rango de valores que toma $f$ en el rectángulo considerado, para lo cual basta con representar la superficie una vez, sin opciones añadidas, y observar el gráfico:"
   ]
  },
  {
   "cell_type": "code",
   "execution_count": null,
   "metadata": {},
   "outputs": [],
   "source": [
    "# Definición de f\n",
    "def f(x,y): \n",
    "    return (2*x+3*y^2) / (x^2+y^2+1)^2\n",
    "# Definición de col.\n",
    "# Se necesita conocer previamente zmin y zmax tales que\n",
    "# zmin <= f(x,y) <= zmax en el rectángulo considerado\n",
    "zmin, zmax = -0.64, 0.84\n",
    "def col(x,y): \n",
    "    return (f(x,y)-zmin)/(zmax-zmin)\n",
    "gama = colormaps.jet\n",
    "# Representación de la superficie\n",
    "plot3d(f, (-2,2), (-2,2), color=(col,gama), mesh=True, aspect_ratio=[1,1,2])"
   ]
  },
  {
   "cell_type": "markdown",
   "metadata": {},
   "source": [
    "La función `plot` admite también la opción `transformation`, gracias a la cual se pueden representar fácilmente en el sistema de referencia cartesiano superficies dadas de forma explícita en otro sistema de coordenadas. Consideremos, por ejemplo, la superficie dada en coordenadas cilíndricas mediante la ecuación\n",
    "$$\n",
    "  r = 1 + e^{-z} \\left(1+\\cos 6\\theta\\right),\n",
    "$$\n",
    "con $(\\theta,z)\\in[0,2\\pi]\\times[0,3]$. La siguiente celda muestra esta superficie:"
   ]
  },
  {
   "cell_type": "code",
   "execution_count": null,
   "metadata": {},
   "outputs": [],
   "source": [
    "# Cambio a coordenadas cilíndricas\n",
    "var(\"r,θ,z\")\n",
    "Cilíndricas = (r*cos(θ), r*sin(θ), z)\n",
    "# Representación de la superficie\n",
    "plot3d(1+e^(-z)*(1+cos(6*θ)), (θ,0,2*pi), (z,0,3), transformation=Cilíndricas, \n",
    "       plot_points=[80,40], color=\"lightgreen\", mesh=True)"
   ]
  },
  {
   "cell_type": "markdown",
   "metadata": {},
   "source": [
    "Pongamos otro ejemplo. Trazamos ahora la superficie $z=\\operatorname{sen}(\\pi r)\\,\\operatorname{sen}\\theta$, con $(r,\\theta)\\in[0,5]\\times[0,2\\pi]$:"
   ]
  },
  {
   "cell_type": "code",
   "execution_count": null,
   "metadata": {},
   "outputs": [],
   "source": [
    "plot3d(sin(pi*r)*sin(θ), (r,0,5), (θ,0,2*pi), transformation=Cilíndricas, \n",
    "       plot_points=61, color=\"lightgreen\", mesh=True, aspect_ratio=[1,1,1.75])"
   ]
  },
  {
   "cell_type": "markdown",
   "metadata": {},
   "source": [
    "Añadimos un último ejemplo en coordenadas esféricas. Representamos la superficie $\\rho=(2-\\varphi)(3+\\cos6\\theta)$, con $(\\theta,\\varphi)\\in[0,2\\pi]\\times[-\\pi/2,\\pi/2]$:"
   ]
  },
  {
   "cell_type": "code",
   "execution_count": null,
   "metadata": {},
   "outputs": [],
   "source": [
    "var(\"ρ,θ,φ\")\n",
    "Esféricas = (ρ*cos(θ)*cos(φ), ρ*sin(θ)*cos(φ), ρ*sin(φ))\n",
    "plot3d((2-φ)*(3+cos(6*θ)), (θ,0,2*pi), (φ,-pi/2,pi/2), transformation=Esféricas, \n",
    "       plot_points=[85,40], color=\"lightgreen\", mesh=True)"
   ]
  },
  {
   "cell_type": "markdown",
   "metadata": {},
   "source": [
    "<div style=\"text-align:right\">\n",
    "<a href=#Índice\n",
    "   style=\"padding:0.5em;background:#7d5d3b;color:#ffffff;text-decoration:none;\n",
    "          border:1px solid #54381e;border-radius:5px;\">Volver al índice</a>\n",
    "</div>"
   ]
  },
  {
   "cell_type": "markdown",
   "metadata": {},
   "source": [
    "## La función <samp>parametric_plot3d</samp>"
   ]
  },
  {
   "cell_type": "markdown",
   "metadata": {},
   "source": [
    "La representación gráfica de curvas y superficies paramétricas se efectúa mediante la función `parametric_plot3d`. \n",
    "\n",
    "Consideremos primero una curva dada en forma paramétrica mediante la ecuación $(x,y,z)=\\boldsymbol{\\varphi}(t)$, con $\\boldsymbol{\\varphi}=(\\varphi_1,\\varphi_2,\\varphi_3):I\\subset\\mathbb{R}\\to\\mathbb{R}^3$ y $t\\in[a,b]$. Para trazar esta curva, se usa `parametric_plot3d` con la siguiente sintaxis:\n",
    "> <samp>parametric_plot3d</samp>(<samp>fun</samp>, <samp>rango_t</samp>, *opciones*),\n",
    "\n",
    "donde:\n",
    "* <samp>fun</samp> es una expresión o función que proporciona la parametrización $\\boldsymbol{\\varphi}$ como lista, tupla o vector,\n",
    "* <samp>rango_t</samp> es un par ($a$, $b$) o una terna (<samp>t</samp>, $a$, $b$).\n",
    "\n",
    "Asimismo, para dibujar una superficie de ecuación paramétrica $(x,y,z)=\\boldsymbol{\\varphi}(u,v)$, con\n",
    "$(u,v)\\in D=[a_1,b_1]\\times[a_2,b_2]$ y $\\boldsymbol{\\varphi}=(\\varphi_1,\\varphi_2,\\varphi_3):D\\to\\mathbb{R}^3$, la sintaxis que ahora adopta `parametric_plot3d` es\n",
    "> <samp>parametric_plot3d</samp>(<samp>fun</samp>, <samp>rango_u</samp>, <samp>rango_v</samp>, *opciones*).\n",
    "\n",
    "Las opciones que admite `parametric_plot3d` son similares a las de `plot3d`. Demos algunos ejemplos. Representamos primero una hélice de ecuación $\\boldsymbol{x}=(10\\cos t, 10\\operatorname{sen} t, t)$, con $t\\in[0,6\\pi]$:"
   ]
  },
  {
   "cell_type": "code",
   "execution_count": null,
   "metadata": {},
   "outputs": [],
   "source": [
    "var(\"t\")\n",
    "g(t) = (10*cos(t), 10*sin(t), t)\n",
    "helice = parametric_plot3d(g(t), (t,0,6*pi), radius=0.5, plot_points=150, color=\"brown\")\n",
    "helice"
   ]
  },
  {
   "cell_type": "markdown",
   "metadata": {},
   "source": [
    "La hélice anterior, en realidad, está contenida en el helicoide de ecuación paramétrica\n",
    "$$\n",
    "   \\left\\{\n",
    "   \\begin{aligned}\n",
    "      &x=v\\cos u, \\\\\n",
    "      &y=v\\operatorname{sen} u, \\\\\n",
    "      &z=u,\n",
    "   \\end{aligned}\n",
    "   \\right.\n",
    "   \\qquad (u,v)\\in[0,6\\pi]\\times[5,15]\n",
    "$$\n",
    "Lo mostramos en la siguiente celda:"
   ]
  },
  {
   "cell_type": "code",
   "execution_count": null,
   "metadata": {},
   "outputs": [],
   "source": [
    "var(\"u,v\")\n",
    "def φ(u,v):\n",
    "    return (v*cos(u), v*sin(u), u)\n",
    "helicoide = parametric_plot3d(φ(u,v), (u,0,6*pi), (v,5,15), \n",
    "                              plot_points=[120,15], mesh=True, color=\"lightgreen\")\n",
    "show(helice + helicoide)"
   ]
  },
  {
   "cell_type": "markdown",
   "metadata": {},
   "source": [
    "Pongamos otro ejemplo. Con el auxilio de la función `plot3d`, hemos representado antes la superficie de ecuación $z=\\operatorname{sen}(\\pi r)\\,\\operatorname{sen}\\theta$ en coordenadas cilíndricas, con $(r,\\theta)\\in[0,5]\\times[0,2\\pi]$. En este caso, es obvio que tal superficie se expresa en forma paramétrica mediante la ecuación\n",
    "$$\n",
    "   (x,y,z) = \\left(r\\cos\\theta, r\\operatorname{sen}\\theta, \\operatorname{sen}(\\pi r)\\,\\operatorname{sen}\\theta\\right).\n",
    "$$\n",
    "Por ello, para trazar esta superficie se puede usar también la función `parametric_plot3d`:"
   ]
  },
  {
   "cell_type": "code",
   "execution_count": null,
   "metadata": {},
   "outputs": [],
   "source": [
    "var(\"r,θ\")\n",
    "g = (r*cos(θ), r*sin(θ), sin(pi*r)*sin(θ))\n",
    "parametric_plot3d(g, (r,0,5), (θ,0,2*pi), plot_points=61, color=\"lightgreen\", mesh=True, aspect_ratio=[1,1,1.75])"
   ]
  },
  {
   "cell_type": "markdown",
   "metadata": {},
   "source": [
    "Concluimos dibujando el toro de ecuación\n",
    "$$\n",
    "   (x,y,z) = \\bigl((2+\\cos v)\\cos u, (2+\\cos v)\\operatorname{sen}u, \\operatorname{sen}v\\bigr),\n",
    "$$\n",
    "con $(u,v)\\in[0,2\\pi]\\times[0,2\\pi]$:"
   ]
  },
  {
   "cell_type": "code",
   "execution_count": null,
   "metadata": {},
   "outputs": [],
   "source": [
    "var(\"u,v\")\n",
    "toro = ((2+cos(v))*cos(u), (2+cos(v))*sin(u), sin(v))\n",
    "parametric_plot3d(toro, (u,0,2*pi), (v,0,2*pi), mesh=True, plot_points=[80,40],\n",
    "                  color=(lambda u,v: sin(u/2)*(1+sin(v))/2,colormaps.Oranges_r))"
   ]
  },
  {
   "cell_type": "markdown",
   "metadata": {},
   "source": [
    "<div style=\"text-align:right\">\n",
    "<a href=#Índice\n",
    "   style=\"padding:0.5em;background:#7d5d3b;color:#ffffff;text-decoration:none;\n",
    "          border:1px solid #54381e;border-radius:5px;\">Volver al índice</a>\n",
    "</div>"
   ]
  },
  {
   "cell_type": "markdown",
   "metadata": {},
   "source": [
    "<div class=\"alert alert-block alert-warning\">\n",
    "<strong>Celda de configuración</strong>.\n",
    "La evaluación de la celda siguiente cambia el formato por omisión de este cuaderno.\n",
    "</div>"
   ]
  },
  {
   "cell_type": "code",
   "execution_count": 1,
   "metadata": {},
   "outputs": [
    {
     "data": {
      "text/html": [
       "<style>\n",
       "h1{text-align: center; color: rgb(185,74,72);}\n",
       "h2{text-align: center; color: rgb(0,102,0); padding: 0.25em 0;\n",
       "   border: 2px solid rgb(0,191,0); border-width: 2px 0;}\n",
       "h3{border-bottom: 2px solid rgb(153,153,153);} \n",
       "h4{color: rgb(58,135,173); font-size: 115%!important;\n",
       "   font-weight: bold!important;}\n",
       ".text_cell_render{font-family: \"Trebuchet MS\",Geneva,sans-serif;\n",
       "                  font-size: 110%; line-height: 1.5;}\n",
       ".MathJax_Display{margin: 0.5em 0;}\n",
       "</style>"
      ],
      "text/plain": [
       "<IPython.core.display.HTML object>"
      ]
     },
     "metadata": {},
     "output_type": "display_data"
    }
   ],
   "source": [
    "%%html\n",
    "<style>\n",
    "h1{text-align: center; color: rgb(185,74,72);}\n",
    "h2{text-align: center; color: rgb(0,102,0); padding: 0.25em 0;\n",
    "   border: 2px solid rgb(0,191,0); border-width: 2px 0;}\n",
    "h3{border-bottom: 2px solid rgb(153,153,153);} \n",
    "h4{color: rgb(58,135,173); font-size: 115%!important;\n",
    "   font-weight: bold!important;}\n",
    ".text_cell_render{font-family: \"Trebuchet MS\",Geneva,sans-serif;\n",
    "                  font-size: 110%; line-height: 1.5;}\n",
    ".MathJax_Display{margin: 0.5em 0;}\n",
    "</style>"
   ]
  },
  {
   "cell_type": "markdown",
   "metadata": {},
   "source": [
    "<div class=\"alert alert-success\">\n",
    "Realizado por <emph>Juan José Torrens</emph> para la asignatura de <strong>Cálculo II</strong><br>\n",
    "Grados de <strong>Ciencias</strong> y de <strong>Ciencia de Datos</strong><br>\n",
    "Universidad Pública de Navarra<br>\n",
    "Última versión: 14-1-2021\n",
    "</div>"
   ]
  }
 ],
 "metadata": {
  "kernelspec": {
   "display_name": "SageMath 9.1",
   "language": "sage",
   "name": "sagemath"
  },
  "language_info": {
   "codemirror_mode": {
    "name": "ipython",
    "version": 3
   },
   "file_extension": ".py",
   "mimetype": "text/x-python",
   "name": "python",
   "nbconvert_exporter": "python",
   "pygments_lexer": "ipython3",
   "version": "3.7.3"
  },
  "widgets": {
   "application/vnd.jupyter.widget-state+json": {
    "state": {},
    "version_major": 2,
    "version_minor": 0
   }
  }
 },
 "nbformat": 4,
 "nbformat_minor": 2
}
