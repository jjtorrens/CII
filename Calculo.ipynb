{
 "cells": [
  {
   "cell_type": "markdown",
   "metadata": {},
   "source": [
    "# Cálculo infinitesimal de funciones univariadas"
   ]
  },
  {
   "cell_type": "markdown",
   "metadata": {},
   "source": [
    "## Índice"
   ]
  },
  {
   "cell_type": "markdown",
   "metadata": {},
   "source": [
    "* [Límites](#Límites)\n",
    "* [Derivación](#Derivación)\n",
    "  * [Cálculo de derivadas](#Cálculo-de-derivadas)\n",
    "  * [Polinomios de Taylor](#Polinomios-de-Taylor)\n",
    "* [Integración](#Integración)"
   ]
  },
  {
   "cell_type": "markdown",
   "metadata": {},
   "source": [
    "## Límites"
   ]
  },
  {
   "cell_type": "markdown",
   "metadata": {},
   "source": [
    "Para calcular límites de una función $f:\\mathbb{R}\\to\\mathbb{R}$ se usa la función `limit` o su sinónimo `lim`. Las notaciones matemáticas\n",
    "$$\\lim_{x\\to x_0}f(x),\\qquad \\lim_{x\\to x_0^-}f(x)\\qquad\\text{y}\\qquad \\lim_{x\\to x_0^+}f(x)$$\n",
    "se corresponden con las órdenes\n",
    "\n",
    "> <samp>limit</samp>(<samp>fun</samp>, <samp>x=</samp>$x_0$) &emsp;\n",
    "> <samp>limit</samp>(<samp>fun</samp>, <samp>x=</samp>$x_0$, <samp>dir=\"-\"</samp>) &emsp;\n",
    "> <samp>limit</samp>(<samp>fun</samp>, <samp>x=</samp>$x_0$, <samp>dir=\"+\"</samp>)\n",
    "\n",
    "siendo `fun` una expresión simbólica que proporciona la función $f(x)$. Como valor de `dir`, se puede emplear `\"plus\"` o `\"right\"` en vez de `\"+\"`; análogamente, se puede sustituir `\"-\"` por `\"minus\"` o `\"left\"`.\n",
    "\n",
    "\n",
    "Para indicar que $x$ tiende a $-\\infty$ o a $+\\infty$, se escribe `x=-oo` o `x=+oo` (nótese que `oo` es la letra `o` repetida). También se puede representar el infinito por `infinity` o  `Infinity`.\n",
    "\n",
    "La función `limit` admite además la opción `algorithm` para escoger qué módulo, de entre los integrados en SageMath, se encarga de realizar los cálculos. Por omisión, se toma `algorithm=\"maxima\"`; otros posibles valores son `\"maxima_taylor\"` y `\"sympy\"`.\n",
    "\n",
    "Pongamos algunos ejemplos. Calculamos primero\n",
    "$$\n",
    "  \\lim_{x\\to0}\\left(\\frac{1}{x^2}-\\frac{1}{\\operatorname{sen}^2 x}\\right).\n",
    "$$\n",
    "Las celdas siguientes muestran distintos modos de hacerlo, variando la forma de proporcionar el primer argumento de `limit`:"
   ]
  },
  {
   "cell_type": "code",
   "execution_count": null,
   "metadata": {},
   "outputs": [],
   "source": [
    "%display latex\n",
    "limit(1/x^2 - 1/sin(x)^2, x=0)"
   ]
  },
  {
   "cell_type": "code",
   "execution_count": null,
   "metadata": {},
   "outputs": [],
   "source": [
    "fun = 1/x^2 - 1/sin(x)^2\n",
    "limit(fun, x=0)"
   ]
  },
  {
   "cell_type": "code",
   "execution_count": null,
   "metadata": {},
   "outputs": [],
   "source": [
    "f(x) = 1/x^2 - 1/sin(x)^2\n",
    "limit(f(x), x=0)"
   ]
  },
  {
   "cell_type": "code",
   "execution_count": null,
   "metadata": {},
   "outputs": [],
   "source": [
    "def f(x): \n",
    "    return 1/x^2 - 1/sin(x)^2\n",
    "# o también f = lambda x: 1/x^2 - 1/sin(x)^2\n",
    "limit(f(x), x=0)"
   ]
  },
  {
   "cell_type": "markdown",
   "metadata": {},
   "source": [
    "Hallemos un par de límites más:"
   ]
  },
  {
   "cell_type": "code",
   "execution_count": null,
   "metadata": {},
   "outputs": [],
   "source": [
    "# Cálculo del límite\n",
    "fun = ((1+sin(x))/(1-sin(x)))^(1/x)\n",
    "L = limit(fun, x=0)\n",
    "\n",
    "# Presentación del resultado\n",
    "limite = fr\"\"\"$\\displaystyle\\lim_{{x\\to0}}\\left(\n",
    "\\frac{{1+\\operatorname{{sen}} x}}{{1-\\operatorname{{sen}} x}}\n",
    "\\right)^{{1/x}}={latex(L)}$\"\"\"\n",
    "show(html(limite))"
   ]
  },
  {
   "cell_type": "code",
   "execution_count": null,
   "metadata": {},
   "outputs": [],
   "source": [
    "# Cálculo del límite\n",
    "f(x) = (1-sin(x/2)) / (cos(x/2) * (cos(x/4)-sin(x/4)))\n",
    "L = limit(f(x), x=pi)\n",
    "\n",
    "# Presentación del resultado\n",
    "limite = fr\"\"\"$\\displaystyle\\lim_{{x\\to\\pi}} \n",
    "\\frac{{1-\\operatorname{{sen}}(x/2)}}{{\\cos(x/2)\\bigl(\\cos(x/4)\n",
    "   -\\operatorname{{sen}}(x/4)\\bigr)}}={latex(L)}$\"\"\"\n",
    "show(html(limite))"
   ]
  },
  {
   "cell_type": "markdown",
   "metadata": {},
   "source": [
    "Comprobamos ahora que\n",
    "$$\n",
    "\\lim_{x\\to0^+}\n",
    "         \\left(\\frac{2}{x}\\right)^{\\log\\left(1+\\frac{1}{\\log x}\\right)}\n",
    "=\\lim_{x\\to+\\infty}\n",
    "         \\left(\\frac{2}{x}\\right)^{\\log\\left(1+\\frac{1}{\\log x}\\right)}=e^{-1}.\n",
    "$$\n",
    "En efecto,"
   ]
  },
  {
   "cell_type": "code",
   "execution_count": null,
   "metadata": {},
   "outputs": [],
   "source": [
    "fun = (2/x)^(log(1+1/log(x)))\n",
    "bool(limit(fun, x=0, dir=\"+\") == limit(fun, x=+oo) == exp(-1))"
   ]
  },
  {
   "cell_type": "markdown",
   "metadata": {},
   "source": [
    "El valor del límite puede ser infinito, con o sin signo. Observemos, por ejemplo, el caso simple de $\\lim_{x\\to0^{-}}1/x$, $\\lim_{x\\to0^{+}}1/x$ y $\\lim_{x\\to0}1/x$:"
   ]
  },
  {
   "cell_type": "code",
   "execution_count": null,
   "metadata": {},
   "outputs": [],
   "source": [
    "limit(1/x, x=0, dir=\"-\")"
   ]
  },
  {
   "cell_type": "code",
   "execution_count": null,
   "metadata": {},
   "outputs": [],
   "source": [
    "limit(1/x, x=0, dir=\"+\")"
   ]
  },
  {
   "cell_type": "code",
   "execution_count": null,
   "metadata": {},
   "outputs": [],
   "source": [
    "limit(1/x, x=0)"
   ]
  },
  {
   "cell_type": "markdown",
   "metadata": {},
   "source": [
    " Si no existe $\\lim_{x\\to k}f(x)$, SageMath lo indica con las salidas `ind` y `und`, abreviaturas de *indefinite*  y *undefined*. La primera respuesta se proporciona si se puede garantizar que la función permanece acotada en un entorno de $k$. Lo comprobamos tratando de hallar los límites de $\\cos x$ y $x\\cos x$ cuando $x\\to+\\infty$:"
   ]
  },
  {
   "cell_type": "code",
   "execution_count": null,
   "metadata": {},
   "outputs": [],
   "source": [
    "limit(cos(x), x=+oo)"
   ]
  },
  {
   "cell_type": "code",
   "execution_count": null,
   "metadata": {},
   "outputs": [],
   "source": [
    "limit(x*cos(x), x=+oo)"
   ]
  },
  {
   "cell_type": "markdown",
   "metadata": {},
   "source": [
    "<div style=\"text-align:right\">\n",
    "<a href=#Índice\n",
    "   style=\"padding:0.5em;background:#7d5d3b;color:#ffffff;text-decoration:none;\n",
    "          border:1px solid #54381e;border-radius:5px;\">Volver al índice</a>\n",
    "</div>"
   ]
  },
  {
   "cell_type": "markdown",
   "metadata": {},
   "source": [
    "## Derivación"
   ]
  },
  {
   "cell_type": "markdown",
   "metadata": {},
   "source": [
    "### Cálculo de derivadas"
   ]
  },
  {
   "cell_type": "markdown",
   "metadata": {},
   "source": [
    "Las derivadas de una función $f:\\mathbb{R}\\to\\mathbb{R}$ se calculan con la función `derivative` o su sinónimo `diff`, que también actúan como métodos. Para calcular la derivada $n$-ésima de $f$, son válidas cualesquiera de las siguientes órdenes: \n",
    "\n",
    "> <samp>derivative</samp>(<samp>fun</samp>, <samp>x</samp>, $n$) &emsp;\n",
    "> <samp>fun</samp>.<samp>derivative</samp>(<samp>x</samp>, $n$) &emsp;\n",
    "> <samp>diff</samp>(<samp>fun</samp>, <samp>x</samp>, $n$) &emsp;\n",
    "> <samp>fun</samp>.<samp>diff</samp>(<samp>x</samp>, $n$)\n",
    "\n",
    "siendo `fun` una expresión simbólica que proporciona $f(x)$. También se podría escribir $n$ veces la variable `x`, como, por ejemplo, `diff(fun,x,x,x)` para la derivada tercera.\n",
    "\n",
    "Trabajemos, por ejemplo, con la función $f(x)=x^2\\cos x$. Las celdas siguientes hallan su derivada tercera, mostrando distintas formas de dar la expresión de $f$ y el orden de la derivada:"
   ]
  },
  {
   "cell_type": "code",
   "execution_count": null,
   "metadata": {},
   "outputs": [],
   "source": [
    "%display latex\n",
    "derivative(x^2 * cos(x),x,3)"
   ]
  },
  {
   "cell_type": "code",
   "execution_count": null,
   "metadata": {},
   "outputs": [],
   "source": [
    "fun = x^2 * cos(x)\n",
    "derivative(fun,x,x,x)"
   ]
  },
  {
   "cell_type": "code",
   "execution_count": null,
   "metadata": {},
   "outputs": [],
   "source": [
    "def f(x): \n",
    "    return x^2 * cos(x)\n",
    "derivative(f(x),x,3)"
   ]
  },
  {
   "cell_type": "code",
   "execution_count": null,
   "metadata": {},
   "outputs": [],
   "source": [
    "f(x) = x^2 * cos(x)\n",
    "derivative(f(x),x,x,x)"
   ]
  },
  {
   "cell_type": "code",
   "execution_count": null,
   "metadata": {},
   "outputs": [],
   "source": [
    "fun = x^2 * cos(x)\n",
    "fun.derivative(x,3)"
   ]
  },
  {
   "cell_type": "code",
   "execution_count": null,
   "metadata": {},
   "outputs": [],
   "source": [
    "(x^2 * cos(x)).diff(x,x,x)"
   ]
  },
  {
   "cell_type": "markdown",
   "metadata": {},
   "source": [
    "Mostramos ahora diversos modos de evaluar una derivada en un punto particular. Para ello, retomamos $f(x)=x^2 \\cos x$ y calculamos su derivada cuarta en $x=\\pi/4$:"
   ]
  },
  {
   "cell_type": "code",
   "execution_count": null,
   "metadata": {},
   "outputs": [],
   "source": [
    "(x^2 * cos(x)).derivative(x,4).subs(x=pi/4)"
   ]
  },
  {
   "cell_type": "code",
   "execution_count": null,
   "metadata": {},
   "outputs": [],
   "source": [
    "fun = x^2 * cos(x)\n",
    "derivative(fun,x,4).subs(x=pi/4)"
   ]
  },
  {
   "cell_type": "code",
   "execution_count": null,
   "metadata": {},
   "outputs": [],
   "source": [
    "d4f = derivative(x^2 * cos(x),x,4)\n",
    "d4f(x=pi/4)"
   ]
  },
  {
   "cell_type": "code",
   "execution_count": null,
   "metadata": {},
   "outputs": [],
   "source": [
    "f = lambda x: x^2 * cos(x)\n",
    "diff(f(x),x,4)(x=pi/4)"
   ]
  },
  {
   "cell_type": "code",
   "execution_count": null,
   "metadata": {},
   "outputs": [],
   "source": [
    "d4f(x) = derivative(x^2 * cos(x),x,4)\n",
    "d4f(pi/4)"
   ]
  },
  {
   "cell_type": "markdown",
   "metadata": {},
   "source": [
    "Las derivadas se pueden representar gráficamente:"
   ]
  },
  {
   "cell_type": "code",
   "execution_count": null,
   "metadata": {},
   "outputs": [],
   "source": [
    "fun = x^2 * cos(x)\n",
    "plot(derivative(fun,x,4), (x,-2*pi,4*pi))"
   ]
  },
  {
   "cell_type": "markdown",
   "metadata": {},
   "source": [
    "En todos los ejemplos anteriores, el primer argumento de `derivative` es una expresión simbólica. También puede ser una función simbólica, en cuyo caso no hace falta especificar la variable de derivación y el resultado, además, vuelve a ser una función simbólica:"
   ]
  },
  {
   "cell_type": "code",
   "execution_count": null,
   "metadata": {
    "scrolled": true
   },
   "outputs": [],
   "source": [
    "f(x) = x^2 * cos(x)       # se define f como función simbólica\n",
    "d4f = derivative(f,x,4)   # o bien d4f = derivative(f,4); cálculo de la derivada cuarta\n",
    "show(d4f)                 # d4f es una función simbólica...\n",
    "d4f(pi/4)                 # que se puede evaluar en pi/4"
   ]
  },
  {
   "cell_type": "markdown",
   "metadata": {},
   "source": [
    "<div style=\"text-align:right\">\n",
    "<a href=#Índice\n",
    "   style=\"padding:0.5em;background:#7d5d3b;color:#ffffff;text-decoration:none;\n",
    "          border:1px solid #54381e;border-radius:5px;\">Volver al índice</a>\n",
    "</div>"
   ]
  },
  {
   "cell_type": "markdown",
   "metadata": {},
   "source": [
    "### Polinomios de Taylor"
   ]
  },
  {
   "cell_type": "markdown",
   "metadata": {},
   "source": [
    "Dada una función $f$ derivable $n$ veces en un punto $x_0$, la función `taylor`, que también actúa como método, halla el polinomio de Taylor de $f$ en $x_0$ de grado $n$. La sintaxis es\n",
    "\n",
    "> <samp>taylor</samp>(<samp>fun</samp>, <samp>x</samp>, $x_0$, $n$) &emsp; \n",
    "> o bien &emsp; <samp>fun</samp>.<samp>taylor</samp>(<samp>x</samp>, $x_0$, $n$)\n",
    "\n",
    "siendo <samp>fun</samp> una expresión simbólica que proporciona $f(x)$. Análogamente, el desarrollo limitado de $f$ de orden $n-1$ en $x_0$ se obtiene con el método `series`, que se usa como sigue:\n",
    "\n",
    "> <samp>fun</samp>.<samp>series</samp>(<samp>x==</samp>$x_0$, $n$)\n",
    "\n",
    "El último término del desarrollo limitado es el resto en forma infinitesimal. Se puede eliminar con el método `truncate`, quedando el polinomio de Taylor. En otras palabras, `fun.taylor(x,x0,n)` y `fun.series(x==x0,n+1).truncate()` dan el mismo resultado.\n",
    "Consideremos, por ejemplo, la función $f(x)=\\cos^2 x$. Obtenemos primero su polinomio de MacLaurin de grado $6$:"
   ]
  },
  {
   "cell_type": "code",
   "execution_count": null,
   "metadata": {},
   "outputs": [],
   "source": [
    "%display latex\n",
    "fun = cos(x)^2\n",
    "taylor(fun,x,0,6)"
   ]
  },
  {
   "cell_type": "markdown",
   "metadata": {},
   "source": [
    "Y ahora el correspondiente desarrollo limitado:"
   ]
  },
  {
   "cell_type": "code",
   "execution_count": null,
   "metadata": {},
   "outputs": [],
   "source": [
    "fun.series(x==0,7)"
   ]
  },
  {
   "cell_type": "markdown",
   "metadata": {},
   "source": [
    "Pongamos otro ejemplo. Sean $f(x)=3(x-1)e^{2x}+3\\operatorname{sen} x+3$ y $g(x)=x\\log(\\cos x)$. Hallamos sus polinomios de MacLaurin de grado $3$:"
   ]
  },
  {
   "cell_type": "code",
   "execution_count": null,
   "metadata": {},
   "outputs": [],
   "source": [
    "f = 3*(x-1)*exp(2*x) + 3*sin(x) +3\n",
    "g = x * log(cos(x))\n",
    "pf = f.taylor(x,0,3)\n",
    "pg = g.taylor(x,0,3)\n",
    "show(html(\"Polinomio de MacLaurin de $f$ de grado 3\"))\n",
    "show(pf)\n",
    "show(html(\"Polinomio de MacLaurin de $g$ de grado 3\"))\n",
    "show(pg)"
   ]
  },
  {
   "cell_type": "markdown",
   "metadata": {},
   "source": [
    "Como aplicación, del resultado de la celda precedente podríamos concluir que\n",
    "$$\n",
    "   \\lim_{x\\to0} \\frac{f(x)}{g(x)}\n",
    "   = \\lim_{x\\to0}\\frac{3(x-1)e^{2x}+3\\operatorname{sen} x+3}{x\\log(\\cos x)}\n",
    "   = \\lim_{x\\to0} \\frac{3x^3/2}{-x^3/2}=-3,\n",
    "$$\n",
    "resultado al que, no obstante, se puede llegar directamente con la función `limit`:"
   ]
  },
  {
   "cell_type": "code",
   "execution_count": null,
   "metadata": {},
   "outputs": [],
   "source": [
    "limit(f/g, x=0)"
   ]
  },
  {
   "cell_type": "markdown",
   "metadata": {},
   "source": [
    "<div style=\"text-align:right\">\n",
    "<a href=#Índice\n",
    "   style=\"padding:0.5em;background:#7d5d3b;color:#ffffff;text-decoration:none;\n",
    "          border:1px solid #54381e;border-radius:5px;\">Volver al índice</a>\n",
    "</div>"
   ]
  },
  {
   "cell_type": "markdown",
   "metadata": {},
   "source": [
    "## Integración"
   ]
  },
  {
   "cell_type": "markdown",
   "metadata": {},
   "source": [
    "La integración de una función $f$ se realiza mediante la función, y método, `integral` o su sinónimo `integrate`. Para obtener la integral indefinida de $f$, la sintaxis es\n",
    "\n",
    "> <samp>integral(fun, x)</samp> &emsp; o &emsp; <samp>fun.integral(x)</samp>\n",
    "\n",
    "donde `fun` es una expresión simbólica que proporciona $f(x)$. Análogamente, para hallar la integral definida de $f$ en un intervalo $[a,b]$, esto es, $\\int_a^b f(x)\\,dx$, se emplea una de las siguientes variantes:\n",
    "\n",
    "> <samp>integral</samp>(<samp>fun</samp>, <samp>x</samp>, $a$, $b$) &emsp;&emsp;\n",
    "> <samp>integral</samp>(<samp>fun</samp>, (<samp>x</samp>, $a$, $b$)) &emsp;&emsp;\n",
    "> <samp>fun</samp>.<samp>integral</samp>(<samp>x</samp>, $a$, $b$)\n",
    "\n",
    "\n",
    "La función `integral` admite la opción `algorithm` para escoger el módulo de SageMath que efectúa el cálculo. Por omisión,  se toma `algorithm=\"maxima\"`. Otros posibles valores son `\"sympy\"` y `\"giac\"`. \n",
    "\n",
    "SageMath puede trabajar con integrales impropias. En particular, los extremos de integración pueden ser `-oo` y `+oo`, o bien `-infinity` y `+infinity`.\n",
    "\n",
    "Hallamos primero $\\int \\operatorname{sen}^2 x\\, \\cos^4 x \\,dx$:"
   ]
  },
  {
   "cell_type": "code",
   "execution_count": null,
   "metadata": {},
   "outputs": [],
   "source": [
    "%display latex\n",
    "integral(sin(x)^2*cos(x)^4, x)"
   ]
  },
  {
   "cell_type": "markdown",
   "metadata": {},
   "source": [
    "Y ahora $\\displaystyle\\int \\frac{x^4-7 x^3+19 x^2-19 x+3}{x^3-5 x^2+9 x-5}\\,dx$"
   ]
  },
  {
   "cell_type": "code",
   "execution_count": null,
   "metadata": {},
   "outputs": [],
   "source": [
    "fun = (x^4-7*x^3+19*x^2-19*x+3) / (x^3-5*x^2+9*x-5)\n",
    "fun.integral(x)"
   ]
  },
  {
   "cell_type": "markdown",
   "metadata": {},
   "source": [
    "Vamos a calcular un par de integrales definidas. Las  propias celdas de salida indican de qué integrales se trata:"
   ]
  },
  {
   "cell_type": "code",
   "execution_count": null,
   "metadata": {},
   "outputs": [],
   "source": [
    "# Cálculo de la integral\n",
    "f = (1-exp(x))/(1+exp(x))\n",
    "val_int_f = integral(f, (x, 0, log(2))).simplify_log()\n",
    "\n",
    "# Salida\n",
    "int_f = fr\"$\\displaystyle\\int_0^{{\\log 2}} \\frac{{1-e^x}}{{1+e^x}}\\,dx={latex(val_int_f)}$\"\n",
    "show(html(int_f))"
   ]
  },
  {
   "cell_type": "code",
   "execution_count": null,
   "metadata": {},
   "outputs": [],
   "source": [
    "# Cálculo de la integral\n",
    "f = (2-x)*cos(pi*x)\n",
    "val_int_f = integral(f, (x, 1/2, 2)).simplify_rational()\n",
    "\n",
    "# Salida\n",
    "int_f = fr\"$\\displaystyle\\int_{{1/2}}^2 (2-x)\\cos(\\pi x)\\,dx\\,dx={latex(val_int_f)}$\"\n",
    "show(html(int_f))"
   ]
  },
  {
   "cell_type": "markdown",
   "metadata": {},
   "source": [
    "Veamos una integral impropia de 1.ª especie, en concreto, $\\displaystyle\\int_0^{+\\infty} \\frac{\\operatorname{sen}x}{x}\\,dx$:"
   ]
  },
  {
   "cell_type": "code",
   "execution_count": null,
   "metadata": {},
   "outputs": [],
   "source": [
    "integral(sin(x)/x, (x,0,+oo))"
   ]
  },
  {
   "cell_type": "markdown",
   "metadata": {},
   "source": [
    "Terminamos con $\\displaystyle\\int_2^5 \\sqrt{\\frac{5-x}{x-2}}\\,dx$, que es una integral impropia de 2.ª especie:"
   ]
  },
  {
   "cell_type": "code",
   "execution_count": null,
   "metadata": {
    "scrolled": true
   },
   "outputs": [],
   "source": [
    "integral(sqrt((5-x)/(x-2)), (x,2,5))"
   ]
  },
  {
   "cell_type": "markdown",
   "metadata": {},
   "source": [
    "Con suma frecuencia se encuentran funciones que no es posible o conveniente integrar de forma analítica. Así ocurre si el tiempo de cómputo es muy elevado o si las primitivas son excesivamente complicadas o no son expresables mediante funciones elementales. Es el caso de la integral\n",
    "$$\n",
    "   \\int_0^3 \\sqrt{\\frac{2+x^2}{1+x^2}}\\,dx.\n",
    "$$\n",
    "Si intentamos calcularla, SageMath devuelve como resultado la propia integral tras una espera que puede ser prolongada:"
   ]
  },
  {
   "cell_type": "code",
   "execution_count": null,
   "metadata": {},
   "outputs": [],
   "source": [
    "integrate(sqrt((2+x^2)/(1+x^2)), x, 0, 3)"
   ]
  },
  {
   "cell_type": "markdown",
   "metadata": {},
   "source": [
    "En situaciones así, se puede tratar de obtener, al menos, un valor aproximado de la integral definida mediante algún algoritmo de *integración numérica*. SageMath proporciona con tal fin el método `nintegral` y la función `numerical_integral` cuya sintaxis es\n",
    "\n",
    "> <samp>fun</samp>.<samp>nintegral</samp>(<samp>x</samp>, $a$, $b$)&emsp;&emsp;\n",
    "> <samp>numerical_integral</samp>(<samp>fun</samp>, $a$, $b$) \n",
    "\n",
    "En ambos casos se obtiene una tupla cuyo primer elemento es la aproximación de la integral y el segundo es el error estimado. El método `nintegral` devuelve además el número de evaluaciones del integrando y un código de error (si su valor es $0$, el cómputo se ha realizado sin problemas). Las órdenes `sage.calculus.calculus.nintegral?` y `numerical_integral?` dan más información sobre su uso y opciones.\n",
    "\n",
    "En las siguientes celdas estimamos, mediante el método y la función mencionadas, el valor de la integral indefinida que no hemos podido hallar:"
   ]
  },
  {
   "cell_type": "code",
   "execution_count": null,
   "metadata": {},
   "outputs": [],
   "source": [
    "fun = sqrt((2+x^2)/(1+x^2))\n",
    "fun.nintegrate(x, 0, 3)"
   ]
  },
  {
   "cell_type": "code",
   "execution_count": null,
   "metadata": {},
   "outputs": [],
   "source": [
    "numerical_integral(fun, 0, 3)"
   ]
  },
  {
   "cell_type": "markdown",
   "metadata": {},
   "source": [
    "Así pues, podemos ahora asegurar que\n",
    "$$\n",
    "   \\int_0^3 \\sqrt{\\frac{2+x^2}{1+x^2}}\\,dx\\approx 3.5524035069.\n",
    "$$"
   ]
  },
  {
   "cell_type": "markdown",
   "metadata": {},
   "source": [
    "<div style=\"text-align:right\">\n",
    "<a href=#Índice\n",
    "   style=\"padding:0.5em;background:#7d5d3b;color:#ffffff;text-decoration:none;\n",
    "          border:1px solid #54381e;border-radius:5px;\">Volver al índice</a>\n",
    "</div>"
   ]
  },
  {
   "cell_type": "markdown",
   "metadata": {},
   "source": [
    "<div class=\"alert alert-block alert-warning\">\n",
    "<strong>Celda de configuración</strong>.\n",
    "La evaluación de la celda siguiente cambia el formato por omisión de este cuaderno.\n",
    "</div>"
   ]
  },
  {
   "cell_type": "code",
   "execution_count": null,
   "metadata": {},
   "outputs": [],
   "source": [
    "# Se desactiva primero la acción de %display latex, si estuviera activa\n",
    "%display plain"
   ]
  },
  {
   "cell_type": "code",
   "execution_count": 1,
   "metadata": {},
   "outputs": [
    {
     "data": {
      "text/html": [
       "<style>\n",
       "h1{text-align: center; color: rgb(185,74,72);}\n",
       "h2{text-align: center; color: rgb(0,102,0); padding: 0.25em 0;\n",
       "   border: 2px solid rgb(0,191,0); border-width: 2px 0;}\n",
       "h3{border-bottom: 2px solid rgb(153,153,153);} \n",
       "h4{color: rgb(58,135,173); font-size: 115%!important;\n",
       "   font-weight: bold!important;}\n",
       ".text_cell_render{font-family: \"Trebuchet MS\",Geneva,sans-serif;\n",
       "                  font-size: 110%; line-height: 1.5;}\n",
       ".MathJax_Display{margin: 0.5em 0;}\n",
       "</style>"
      ],
      "text/plain": [
       "<IPython.core.display.HTML object>"
      ]
     },
     "metadata": {},
     "output_type": "display_data"
    }
   ],
   "source": [
    "%%html\n",
    "<style>\n",
    "h1{text-align: center; color: rgb(185,74,72);}\n",
    "h2{text-align: center; color: rgb(0,102,0); padding: 0.25em 0;\n",
    "   border: 2px solid rgb(0,191,0); border-width: 2px 0;}\n",
    "h3{border-bottom: 2px solid rgb(153,153,153);} \n",
    "h4{color: rgb(58,135,173); font-size: 115%!important;\n",
    "   font-weight: bold!important;}\n",
    ".text_cell_render{font-family: \"Trebuchet MS\",Geneva,sans-serif;\n",
    "                  font-size: 110%; line-height: 1.5;}\n",
    ".MathJax_Display{margin: 0.5em 0;}\n",
    "</style>"
   ]
  },
  {
   "cell_type": "markdown",
   "metadata": {},
   "source": [
    "<div class=\"alert alert-success\">\n",
    "Realizado por <emph>Juan José Torrens</emph> para la asignatura de <strong>Cálculo II</strong><br>\n",
    "Grados de <strong>Ciencias</strong> y de <strong>Ciencia de Datos</strong><br>\n",
    "Universidad Pública de Navarra<br>\n",
    "Última versión: 14-1-2021\n",
    "</div>"
   ]
  }
 ],
 "metadata": {
  "kernelspec": {
   "display_name": "SageMath 9.1",
   "language": "sage",
   "name": "sagemath"
  },
  "language_info": {
   "codemirror_mode": {
    "name": "ipython",
    "version": 3
   },
   "file_extension": ".py",
   "mimetype": "text/x-python",
   "name": "python",
   "nbconvert_exporter": "python",
   "pygments_lexer": "ipython3",
   "version": "3.7.3"
  },
  "widgets": {
   "application/vnd.jupyter.widget-state+json": {
    "state": {},
    "version_major": 2,
    "version_minor": 0
   }
  }
 },
 "nbformat": 4,
 "nbformat_minor": 2
}
