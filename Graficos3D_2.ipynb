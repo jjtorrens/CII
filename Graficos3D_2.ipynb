{
 "cells": [
  {
   "cell_type": "markdown",
   "metadata": {},
   "source": [
    "# Gráficos 3D: Segunda parte"
   ]
  },
  {
   "cell_type": "markdown",
   "metadata": {},
   "source": [
    "## Índice\n",
    "\n",
    "* [La función <samp>implicit_plot3d</samp>](#La-función-implicit_plot3d)\n",
    "* [Superficies con restricciones](#Superficies-con-restricciones)"
   ]
  },
  {
   "cell_type": "markdown",
   "metadata": {},
   "source": [
    "## La función <samp>implicit_plot3d</samp>"
   ]
  },
  {
   "cell_type": "markdown",
   "metadata": {},
   "source": [
    "Dadas dos funciones $F, G:D\\subset\\mathbb{R}^3\\to\\mathbb{R}$, la función `implicit_plot3d` traza la porción de la superficie $F(x,y,z)=G(x,y,z)$ contenida en un determinado ortoedro $[a_1,b_1]\\times[a_2,b_2]\\times[a_3,b_3]$. Se usa con la siguiente sintaxis:\n",
    "\n",
    "> <samp>implicit_plot3d</samp>($F(x,y,z)$<samp>==</samp>$G(x,y,z)$, <samp>rango_x</samp>, <samp>rango_y</samp>,\n",
    "<samp>rango_z</samp>, *opciones*)\n",
    " \n",
    "donde:\n",
    "* <samp>rango_x</samp> es el par ($a_1$, $b_1$) o la terna (<samp>x</samp>, $a_1$, $b_1$),\n",
    "* <samp>rango_y</samp> es el par ($a_2$, $b_2$) o la terna (<samp>y</samp>, $a_2$, $b_2$),\n",
    "* <samp>rango_z</samp> es el par ($a_3$, $b_3$) o la terna (<samp>z</samp>, $a_3$, $b_3$).\n",
    "\n",
    "Si $G\\equiv0$, el primer argumento se puede escribir en la forma $F(x,y,z)$, en lugar de $F(x,y,z)$<samp>==</samp>$0$.\n",
    "\n",
    "Las opciones de `implicit_plot3d` son análogas a las de la función `plot3d`. Para la opción `plot_points`, se puede indicar un único entero o una terna. Asimismo, si se usa la opción `color` en la forma `color=(col,gama)`, hay que tener en cuenta que `col` debe ser ahora una función trivariada.\n",
    "\n",
    "Como primer ejemplo, retomamos el toro, también definido implícitamente por la ecuación\n",
    "$$\n",
    "   \\left( \\sqrt{x^2+y^2}-2 \\right)^2 + z^2 =1.\n",
    "$$\n",
    "Le damos un color uniforme:"
   ]
  },
  {
   "cell_type": "code",
   "execution_count": null,
   "metadata": {},
   "outputs": [],
   "source": [
    "var(\"x,y,z\")\n",
    "toro = (sqrt(x^2+y^2)-2)^2 + z^2 -1\n",
    "implicit_plot3d(toro, (x,-3,3), (y,-3,3), (z,-1,1), color=\"orange\")"
   ]
  },
  {
   "cell_type": "markdown",
   "metadata": {},
   "source": [
    "Representamos seguidamente el elipsoide\n",
    "$$\n",
    "   \\frac{x^2}{9}+\\frac{y^2}{4}+z^2=1.\n",
    "$$\n",
    "con una policromía meramente decorativa:"
   ]
  },
  {
   "cell_type": "code",
   "execution_count": null,
   "metadata": {},
   "outputs": [],
   "source": [
    "var(\"x,y,z\")\n",
    "def col(x,y,z): return abs(cos(2*x)*sin(4*y*z))\n",
    "implicit_plot3d(x^2/9+y^2/4+z^2==1, (x,-3.1,3.1), (y,-2.1,2.1), (z,-1.1,1.1), \n",
    "                plot_points=60, color=(col,colormaps.hsv), mesh=False)"
   ]
  },
  {
   "cell_type": "markdown",
   "metadata": {},
   "source": [
    "Existen superficies de geometría muy complicada que se pueden definir de forma implícita. Así ocurre con las superficies de la forma\n",
    "$$\n",
    "  \\cos(x+a y) + \\cos(x-a y) + \\cos(y+az) + \\cos(y-az) + \\cos(z+ax) + \\cos(z-ax) = k.\n",
    "$$\n",
    "Representamos el caso $a=1.5$ y $k=2$:"
   ]
  },
  {
   "cell_type": "code",
   "execution_count": null,
   "metadata": {},
   "outputs": [],
   "source": [
    "var(\"x,y,z\")\n",
    "a = 1.5\n",
    "F(x,y,z) = cos(x+a*y) + cos(x-a*y) + cos(y+a*z) + cos(y-a*z) + cos(z+a*x) + cos(z-a*x) - 2\n",
    "r = 4.75\n",
    "implicit_plot3d(F(x,y,z), (x,-r,r), (y,-r,r), (z,-r,r), plot_points=70, color=\"gold\", frame=False)"
   ]
  },
  {
   "cell_type": "markdown",
   "metadata": {},
   "source": [
    "En ocasiones puede ser conveniente usar `implicit_plot3d` para representar superficies dadas de forma explícita. Consideremos, por ejemplo, la superficie $z=f(x,y)$, con $f(x,y)=y/(x^2+y^2)$. La singularidad de $f$ en el punto $(0,0)$ impide trazar adecuadamente esta superfice con `plot3d`, como podemos comprobar:"
   ]
  },
  {
   "cell_type": "code",
   "execution_count": null,
   "metadata": {},
   "outputs": [],
   "source": [
    "var(\"x,y,z\")\n",
    "h(x,y)= y/(x^2+y^2)\n",
    "plot3d(h(x,y), (x,-1,1), (y,-1,1), color=\"green\")"
   ]
  },
  {
   "cell_type": "markdown",
   "metadata": {},
   "source": [
    "En cambio, no hay dificultad en dibujar la superficie con `implicit_plot3d`:"
   ]
  },
  {
   "cell_type": "code",
   "execution_count": null,
   "metadata": {},
   "outputs": [],
   "source": [
    "zmin, zmax = -2, 2\n",
    "def col(x,y,z):\n",
    "    return (z-zmin)/(zmax-zmin)\n",
    "implicit_plot3d(z==h(x,y), (x,-1,1), (y,-1,1), (z,zmin,zmax), aspect_ratio=[2,2,1],\n",
    "                color = (col,colormaps.Spectral))"
   ]
  },
  {
   "cell_type": "markdown",
   "metadata": {},
   "source": [
    "<div style=\"text-align:right\">\n",
    "<a href=#Índice\n",
    "   style=\"padding:0.5em;background:#7d5d3b;color:#ffffff;text-decoration:none;\n",
    "          border:1px solid #54381e;border-radius:5px;\">Volver al índice</a>\n",
    "</div>"
   ]
  },
  {
   "cell_type": "markdown",
   "metadata": {},
   "source": [
    "## Superficies con restricciones"
   ]
  },
  {
   "cell_type": "markdown",
   "metadata": {},
   "source": [
    "En ocasiones no interesa visualizar por entero una superficie $S$, sino sólo la parte de $S$ que satisface una determinada condición. Por ejemplo, si $S$ es la esfera de ecuación $x^2+y^2+z^2=1$, podría ser necesario, por alguna razón, mostrar tan sólo la porción de $S$ contenida en el octaedro de ecuación \n",
    "$\\lvert x\\rvert+\\lvert y\\rvert+\\lvert z\\rvert\\leq 1.5$. La siguiente celda dibuja la esfera, en color rojo, y el octaedro, en color gris transparente:"
   ]
  },
  {
   "cell_type": "code",
   "execution_count": null,
   "metadata": {},
   "outputs": [],
   "source": [
    "var(\"x,y,z\")\n",
    "esfera = implicit_plot3d(x^2 + y^2 + z^2 -1, (x,-1,1), (y,-1,1), (z,-1,1), color=\"red\")\n",
    "octaedro = implicit_plot3d(abs(x) + abs(y) + abs(z) - 1.5, (x,-1.5,1.5), (y,-1.5,1.5), (z,-1.5,1.5), \n",
    "                           color=\"gray\", opacity=0.6)\n",
    "show(esfera + octaedro)"
   ]
  },
  {
   "cell_type": "markdown",
   "metadata": {},
   "source": [
    "Para resolver esta clase de problemas, la función `implicit_plot3d` dispone de la opción `region`. Se usa en la forma `region=cond`, siendo `cond` una función booleana trivariada. La superficie se traza sólo en aquella región en la que `cond` es `True`. Para ejemplificarlo, volvamos a la esfera y el octaedro. Modificamos el código de la última celda para trazar la esfera con la opción `region`:"
   ]
  },
  {
   "cell_type": "code",
   "execution_count": null,
   "metadata": {},
   "outputs": [],
   "source": [
    "var(\"x,y,z\")\n",
    "G = lambda x,y,z: abs(x) + abs(y) + abs(z) - 1.5\n",
    "esfera = implicit_plot3d(x^2 + y^2 + z^2 -1, (x,-1,1), (y,-1,1), (z,-1,1), color=\"red\",\n",
    "                        region=lambda x,y,z: G(x,y,z)<=0)\n",
    "octaedro = implicit_plot3d(G(x,y,z), (x,-1.5,1.5), (y,-1.5,1.5), (z,-1.5,1.5), color=\"gray\", opacity=0.6)\n",
    "show(esfera + octaedro)"
   ]
  },
  {
   "cell_type": "markdown",
   "metadata": {},
   "source": [
    "Un inconveniente de la opción `region` es que, con frecuencia, los bordes de las superficies quedan mal perfilados, como bien se aprecia en el último ejemplo. Se puede paliar esta dificultad dibujando las superficies con más puntos mediante la opción `plot_points`. No obstante, es preferible recurrir a un procedimiento alternativo que tiene la ventaja adicional de ser aplicable no sólo a las superficies generadas con `implicit_plot3d`, sino también a las que resultan de las funciones `plot3d` y `parametric_plot3d`. \n",
    "\n",
    "En efecto, todas las superficies cuentan con el método `add_condition`. Su primer argumento es la función booleana que expresa la condición que se quiere imponer a la superficie, como en la opción `region` de `implicit_plot3d`. El segundo argumento de `add_condition` es un entero que marca el nivel de «suavidad» del borde de la superficie (cuanto más alto, más suave); el valor de este argumento, si se omite, es $40$.\n",
    "\n",
    "Retomamos el ejemplo de la esfera y el ortoedro. Como claramente muestra la celda siguiente, el resultado es muchísimo mejor que el obtenido anteriormente:"
   ]
  },
  {
   "cell_type": "code",
   "execution_count": null,
   "metadata": {},
   "outputs": [],
   "source": [
    "var(\"x,y,z\")\n",
    "G = lambda x,y,z: abs(x) + abs(y) + abs(z) - 1.5\n",
    "esfera = implicit_plot3d(x^2 + y^2 + z^2 -1, (x,-1,1), (y,-1,1), (z,-1,1), color=\"red\")\n",
    "octaedro = implicit_plot3d(G(x,y,z), (x,-1.5,1.5), (y,-1.5,1.5), (z,-1.5,1.5), color=\"gray\", opacity=0.6)\n",
    "cond = lambda x,y,z: G(x,y,z)<=0\n",
    "esfera = esfera.add_condition(cond)\n",
    "show(esfera + octaedro)\n",
    "show(esfera)"
   ]
  },
  {
   "cell_type": "markdown",
   "metadata": {},
   "source": [
    "Como aplicación de lo visto, representemos el sólido limitado por el cono $(x-1)^2+y^2=z^2$ y el hemisferio superior de la esfera $x^2+y^2+z^2=4$:"
   ]
  },
  {
   "cell_type": "code",
   "execution_count": null,
   "metadata": {},
   "outputs": [],
   "source": [
    "var(\"x,y,z\")\n",
    "F_c = lambda x,y,z: (x-1)^2 + y^2 - z^2   # cono: F_c(x,y,z)=0\n",
    "F_e = lambda x,y,z: x^2 + y^2 + z^2 - 4   # esfera: F_e(x,y,z)=0\n",
    "g_c = implicit_plot3d(F_c(x,y,z), (x,-2,3), (y,-2,2), (z,0,2), color=\"green\")\n",
    "g_e = implicit_plot3d(F_e(x,y,z), (x,-2,3), (y,-2,2), (z,0,2), color=\"red\")\n",
    "show(html(\"<h4>Cono y hemisferio completos</h4>\"))\n",
    "show(g_c + g_e)\n",
    "\n",
    "cond_c = lambda x,y,z: F_e(x,y,z)<=0     # condición sobre el cono\n",
    "cond_e = lambda x,y,z: F_c(x,y,z)<=0     # condición sobre la esfera\n",
    "g_c = g_c.add_condition(cond_c)\n",
    "g_e = g_e.add_condition(cond_e)\n",
    "show(html(\"<h4>Sólido limitado por el cono y el hemisferio</h4>\"))\n",
    "show(g_c + g_e)"
   ]
  },
  {
   "cell_type": "markdown",
   "metadata": {},
   "source": [
    "Terminamos mostrando que el método `add_condition` también se aplica a las superficies dadas en forma explícita o paramétrica. Para ello, representamos otra vez el sólido limitado por el cono y el hemisferio, pero ahora el cono estará expresado de forma explícita y el hemisferio, de forma paramétrica:"
   ]
  },
  {
   "cell_type": "code",
   "execution_count": null,
   "metadata": {},
   "outputs": [],
   "source": [
    "var(\"x,y,z,θ,φ\")\n",
    "g_c = plot3d(sqrt((x-1)^2 + y^2), (x,-2,3), (y,-2,2), color=\"green\", plot_points=51)\n",
    "g_e = parametric_plot3d((2*cos(θ)*cos(φ),2*sin(θ)*cos(φ),2*sin(φ)), (θ,0,2*pi), (φ,0,pi/2), color=\"red\")\n",
    "\n",
    "cond_c = lambda x,y,z: x^2 + y^2 + z^2<=4\n",
    "cond_e = lambda x,y,z: (x-1)^2 + y^2<=z^2\n",
    "g_c = g_c.add_condition(cond_c)\n",
    "g_e = g_e.add_condition(cond_e)\n",
    "\n",
    "show(g_c + g_e)"
   ]
  },
  {
   "cell_type": "markdown",
   "metadata": {},
   "source": [
    "<div style=\"text-align:right\">\n",
    "<a href=#Índice\n",
    "   style=\"padding:0.5em;background:#7d5d3b;color:#ffffff;text-decoration:none;\n",
    "          border:1px solid #54381e;border-radius:5px;\">Volver al índice</a>\n",
    "</div>"
   ]
  },
  {
   "cell_type": "markdown",
   "metadata": {},
   "source": [
    "<div class=\"alert alert-block alert-warning\">\n",
    "<strong>Celda de configuración</strong>.\n",
    "La evaluación de la celda siguiente cambia el formato por omisión de este cuaderno.\n",
    "</div>"
   ]
  },
  {
   "cell_type": "code",
   "execution_count": 1,
   "metadata": {},
   "outputs": [
    {
     "data": {
      "text/html": [
       "<style>\n",
       "h1{text-align: center; color: rgb(185,74,72);}\n",
       "h2{text-align: center; color: rgb(0,102,0); padding: 0.25em 0;\n",
       "   border: 2px solid rgb(0,191,0); border-width: 2px 0;}\n",
       "h3{border-bottom: 2px solid rgb(153,153,153);} \n",
       "h4{color: rgb(58,135,173); font-size: 115%!important;\n",
       "   font-weight: bold!important;}\n",
       ".text_cell_render{font-family: \"Trebuchet MS\",Geneva,sans-serif;\n",
       "                  font-size: 110%; line-height: 1.5;}\n",
       ".MathJax_Display{margin: 0.5em 0;}\n",
       "</style>"
      ],
      "text/plain": [
       "<IPython.core.display.HTML object>"
      ]
     },
     "metadata": {},
     "output_type": "display_data"
    }
   ],
   "source": [
    "%%html\n",
    "<style>\n",
    "h1{text-align: center; color: rgb(185,74,72);}\n",
    "h2{text-align: center; color: rgb(0,102,0); padding: 0.25em 0;\n",
    "   border: 2px solid rgb(0,191,0); border-width: 2px 0;}\n",
    "h3{border-bottom: 2px solid rgb(153,153,153);} \n",
    "h4{color: rgb(58,135,173); font-size: 115%!important;\n",
    "   font-weight: bold!important;}\n",
    ".text_cell_render{font-family: \"Trebuchet MS\",Geneva,sans-serif;\n",
    "                  font-size: 110%; line-height: 1.5;}\n",
    ".MathJax_Display{margin: 0.5em 0;}\n",
    "</style>"
   ]
  },
  {
   "cell_type": "markdown",
   "metadata": {},
   "source": [
    "<div class=\"alert alert-success\">\n",
    "Realizado por <emph>Juan José Torrens</emph> para la asignatura de <strong>Cálculo II</strong><br>\n",
    "Grados de <strong>Ciencias</strong> y de <strong>Ciencia de Datos</strong><br>\n",
    "Universidad Pública de Navarra<br>\n",
    "Última versión: 14-1-2021\n",
    "</div>"
   ]
  }
 ],
 "metadata": {
  "kernelspec": {
   "display_name": "SageMath 9.1",
   "language": "sage",
   "name": "sagemath"
  },
  "language_info": {
   "codemirror_mode": {
    "name": "ipython",
    "version": 3
   },
   "file_extension": ".py",
   "mimetype": "text/x-python",
   "name": "python",
   "nbconvert_exporter": "python",
   "pygments_lexer": "ipython3",
   "version": "3.7.3"
  },
  "widgets": {
   "application/vnd.jupyter.widget-state+json": {
    "state": {},
    "version_major": 2,
    "version_minor": 0
   }
  }
 },
 "nbformat": 4,
 "nbformat_minor": 2
}
