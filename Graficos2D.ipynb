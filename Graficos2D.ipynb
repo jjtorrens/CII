{
 "cells": [
  {
   "cell_type": "markdown",
   "metadata": {},
   "source": [
    "# Gráficos 2D"
   ]
  },
  {
   "cell_type": "markdown",
   "metadata": {},
   "source": [
    "## Índice"
   ]
  },
  {
   "cell_type": "markdown",
   "metadata": {},
   "source": [
    "* [Generalidades](#Generalidades)\n",
    "* [Color](#Color)\n",
    "* [Figuras](#Figuras)\n",
    "* [Representación de curvas planas](#Representación-de-curvas-planas)\n",
    "  * [Curvas en forma explícita](#Curvas-en-forma-explícita)\n",
    "  * [Curvas en forma paramétrica](#Curvas-en-forma-paramétrica)\n",
    "  * [Curvas en forma implícita](#Curvas-en-forma-implícita)\n",
    "  * [Curvas de nivel](#Curvas-de-nivel)\n",
    "* [Regiones planas](#Regiones-planas)"
   ]
  },
  {
   "cell_type": "markdown",
   "metadata": {},
   "source": [
    "## Generalidades\n",
    "\n",
    "SageMath dispone de una amplia panoplia de funciones para crear gráficos en dos dimensiones. \n",
    "La relación completa se halla detallada en la [documentación](http://doc.sagemath.org/html/en/reference/plotting/sage/plot/plot.html) sobre gráficos 2D de SageMath, donde se proporcionan la sintaxis de cada función y multitud de ejemplos de uso. En esta guía nos centraremos en sólo una parte de los recursos que ofrece SageMath.\n",
    "\n",
    "En un gráfico pueden aparecer figuras como puntos, líneas, polígonos, etc., así como distintos tipos de curvas o regiones planas. Para combinar dos de estos objetos, basta con «sumarlos»: si `p` y `q` representan dos objetos gráficos, entonces `p + q` es el gráfico que une ambos. Por ejemplo, en la siguiente celda se definen tres círculos que luego son mostrados conjuntamente:"
   ]
  },
  {
   "cell_type": "code",
   "execution_count": null,
   "metadata": {},
   "outputs": [],
   "source": [
    "centros = [(cos(t), sin(t)) for t in [0,2*pi/3,4*pi/3]]\n",
    "c1 = circle(centros[0], 1.5, color=\"red\", alpha=0.9, fill=True, axes=False)\n",
    "c2 = circle(centros[1], 1.5, color=\"green\", alpha=0.7, fill=True)\n",
    "c3 = circle(centros[2], 1.5, color=\"blue\", alpha=0.5, fill=True)\n",
    "c1 + c2 + c3   # «sumamos» c1, c2 y c3 para combinarlos"
   ]
  },
  {
   "cell_type": "markdown",
   "metadata": {},
   "source": [
    "Si los objetos dependen de un índice o parámetro, se puede sumarlos con la función `sum`:"
   ]
  },
  {
   "cell_type": "code",
   "execution_count": null,
   "metadata": {},
   "outputs": [],
   "source": [
    "flechas = sum(arrow((0,0),(cos(a),sin(a)), color=\"darkgreen\") for a in srange(0,2*pi,pi/6))\n",
    "flechas.show(aspect_ratio=1, axes=False, frame=True, gridlines=True)"
   ]
  },
  {
   "cell_type": "markdown",
   "metadata": {},
   "source": [
    "El ejemplo anterior usa el método `show` para terminar de perfilar el aspecto del gráfico, con las opciones `aspect_ratio` (número positivo que regula la proporción entre la altura y la anchura del gráfico), `axes` (controla si se dibujan o no los ejes de coordenadas), `frame`(dibujo o no de un marco) y `gridlines` (dibujo de una cuadrícula). La lista completa de opciones admisibles se puede obtener evaluando la expresión `Graphics.SHOW_OPTIONS`. El método `show` también puede actuar como función: hubiera sido correcto escribir `show(flechas, aspect_ratio=1, axes=False, frame=True)`.\n",
    "\n",
    "Otro modo de modificar un objeto gráfico, o de explorar sus características, consiste en utilizar métodos. Si se teclea `Graphics.` y se pulsa <kbd>Tab</kbd>, se abre una ventana con una relación de los métodos aplicables. Alternativamente, la orden `dir(Graphics)` proporciona una lista todavía más exhaustiva. La información particular sobre cada método se obtiene con `Graphics.<método>?`, sustituyendo `<método>` por el método concreto que sea de interés.\n",
    "\n",
    "Repetimos el último gráfico empleando diversos métodos para cambiar su aspecto:"
   ]
  },
  {
   "cell_type": "code",
   "execution_count": null,
   "metadata": {},
   "outputs": [],
   "source": [
    "flechas = sum(arrow((0,0),(cos(a),sin(a)), color=\"darkgreen\") for a in srange(0,2*pi,pi/6))\n",
    "flechas.set_aspect_ratio(1)\n",
    "flechas.axes_color(\"darkred\")                # color del marco\n",
    "flechas.tick_label_color(\"darkblue\")         # color de los números\n",
    "flechas.axes_labels([\"Eje Ox\", \"Eje Oy\"])    # etiquetas en los ejes\n",
    "flechas.axes_label_color(\"brown\")            # color de las etiquetas\n",
    "flechas.show(axes=False, frame=True, gridlines=True)"
   ]
  },
  {
   "cell_type": "markdown",
   "metadata": {},
   "source": [
    "Para guardar una imagen en un fichero se emplea el método `save` , que tiene un argumento, el nombre del fichero, y las mismas opciones que `show`. Por ejemplo, con la orden\n",
    "\n",
    "```\n",
    "flechas.save(\"flechas.pdf\", axes=False, frame=True, gridlines=True)\n",
    "```\n",
    "\n",
    "se almacenaría el último gráfico en el fichero <samp>flechas.pdf</samp>."
   ]
  },
  {
   "cell_type": "markdown",
   "metadata": {},
   "source": [
    "<div style=\"text-align:right\">\n",
    "<a href=#Índice\n",
    "   style=\"padding:0.5em;background:#7d5d3b;color:#ffffff;text-decoration:none;\n",
    "          border:1px solid #54381e;border-radius:5px;\">Volver al índice</a>\n",
    "</div>"
   ]
  },
  {
   "cell_type": "markdown",
   "metadata": {},
   "source": [
    "## Color\n",
    "\n",
    "La mayoría de las primitivas gráficas admiten una o más opciones para fijar el color del objeto correspondiente. El color se puede indicar, en primer lugar, mediante sus coordenadas en el sistema RGB, esto es, mediante una terna\n",
    "$(r,g,b)$ de números reales pertenecientes al intervalo $[0,1]$. Los números $r$, $g$ y $b$ determinan, respectivamente, la proporción de rojo, verde y azul del color considerado. Tal proporción también se puede indicar en la forma hexadecimal <samp>#rrggbb</samp>, donde cada par de cifras <samp>rr</samp>, <samp>gg</samp> y <samp>bb</samp> oscila entre <samp>00</samp> y <samp>ff</samp> (i.e., entre 0 y 255 en base decimal). La celda siguiente, un vez evaluada, permite escoger colores de diversas formas y ver la terna RGB equivalente. Se activa el selector de color pulsando sobre el cuadrado pequeño:"
   ]
  },
  {
   "cell_type": "code",
   "execution_count": null,
   "metadata": {},
   "outputs": [],
   "source": [
    "@interact\n",
    "def _(color=color_selector(widget=\"colorpicker\", label=\"Color\")):\n",
    "    poligono = polygon([(0,0),(1,0),(1,1),[0,1]], color=color, edgecolor=\"black\")\n",
    "    rgb = [n(i, digits=5) for i in sage.plot.colors.rgbcolor(color)]\n",
    "    show(poligono, axes=False, frame=False, figsize=3, title=\"RGB: \"+str(rgb))"
   ]
  },
  {
   "cell_type": "markdown",
   "metadata": {},
   "source": [
    "Otro método de expresar el color consiste en dar el nombre de uno de los colores incluidos en la lista oficial de [colores SVG](https://www.w3.org/TR/css-color-3/#svg-color). Mediante la celda siguiente se puede explorar estos colores y ver su equivalencia en el sistema RGB:"
   ]
  },
  {
   "cell_type": "code",
   "execution_count": null,
   "metadata": {},
   "outputs": [],
   "source": [
    "@interact\n",
    "def _(color=selector(sorted(colors), label=\"Color\")):  \n",
    "    poligono = polygon([(0,0),(1,0),(1,1),[0,1]], color=color, edgecolor=\"black\")\n",
    "    rgb = [n(i, digits=5) for i in sage.plot.colors.rgbcolor(color)]\n",
    "    show(poligono, axes=False, frame=False, figsize=3, title=\"RGB: \"+str(rgb))"
   ]
  },
  {
   "cell_type": "markdown",
   "metadata": {},
   "source": [
    "Existen asimismo gamas de colores, útiles, sobre todo, en la representación de curvas de nivel o en gráficos tridimensionales. Nuevamente, la celda siguiente permite explorar las gamas predefinidas:"
   ]
  },
  {
   "cell_type": "code",
   "execution_count": null,
   "metadata": {},
   "outputs": [],
   "source": [
    "var(\"x,y\")\n",
    "gamas=sorted(colormaps)\n",
    "@interact\n",
    "def _(cmap=selector(gamas, default=\"jet\", label=\"Gama\", buttons=False)):\n",
    "    show(contour_plot(x^2-y^2, (x,-2,2), (y,-2,2), contours=15, \n",
    "                      cmap=cmap, colorbar=True), figsize=5)"
   ]
  },
  {
   "cell_type": "markdown",
   "metadata": {},
   "source": [
    "La orden `sorted(colormaps)` genera una lista ordenada de todas las gamas predefinidas.\n",
    "Para mayor información sobre el color en SageMath, cabe consultar la [documentación](http://doc.sagemath.org/html/en/reference/plotting/sage/plot/colors.html) correspondiente."
   ]
  },
  {
   "cell_type": "markdown",
   "metadata": {},
   "source": [
    "<div style=\"text-align:right\">\n",
    "<a href=#Índice\n",
    "   style=\"padding:0.5em;background:#7d5d3b;color:#ffffff;text-decoration:none;\n",
    "          border:1px solid #54381e;border-radius:5px;\">Volver al índice</a>\n",
    "</div>"
   ]
  },
  {
   "cell_type": "markdown",
   "metadata": {},
   "source": [
    "## Figuras"
   ]
  },
  {
   "cell_type": "markdown",
   "metadata": {},
   "source": [
    "Sagemath proporciona funciones para trazar las siguientes figuras: puntos (`point`), segmentos y líneas poligonales (`line`), flechas (`arrow`), polígonos (`polygon`), circunferencias y círculos (`circle`), elipses (`ellipse`), arcos elípticos (`arc`) y sectores circulares (`disk`). Además se puede añadir texto con la función `text`. Describamos la sintaxis de las funciones más relevantes:\n",
    "\n",
    "* <samp>point</samp>(*punto*, *opciones*) o bien <samp>point</samp>(*lista_puntos*, *opciones*)\n",
    "\n",
    "* <samp>line</samp>(*lista_vértices*, *opciones*)\n",
    "\n",
    "* <samp>arrow</samp>(*pto_inicial*, *pto_final*, *opciones*)\n",
    "\n",
    "* <samp>polygon</samp>(*lista_vértices*, *opciones*)\n",
    "\n",
    "* <samp>circle</samp>(*centro*, *radio*, *opciones*)\n",
    "\n",
    "* <samp>ellipse</samp>(*centro*, *r_1*, *r_2*, *ángulo*, *opciones*)\n",
    "\n",
    "* <samp>text</samp>(*texto*, *posición*, *opciones*)\n",
    "\n",
    "En los argumentos *punto*, *pto_inicial*, *pto_final*, *centro* o *posición* se especifican las coordenadas $(x,y)$ del punto correspondiente, expresadas mediante una lista `[x,y]`, una tupla `(x,y)` o un vector `vector([x,y])`. Los argumentos *lista_puntos* y *lista_vértices* son listas de coordenadas. Los argumentos *r_1* y *r_2* de `ellipse` son las longitudes de los semiejes, y *ángulo* es el ángulo de giro de sus ejes con respecto a la horizontal (por omisión, su valor es $0$; se expresa en radianes); para `circle`, *radio* es, obviamente, el radio del círculo.\n",
    "\n",
    "Todas las funciones cuentan con las opciones `color` (color de la figura), `legend_label` (texto de la leyenda) y `legend_color` (color de la leyenda). En el caso de `circle`, en vez de `color`, se pueden usar las opciones `edgecolor` (color del borde) y `facecolor` (color del interior); en cambio, para la función `polygon`, la opción `color` fija el color de todo el polígono, salvo que se especifique el del borde con `edgecolor`. Con `fill=True` se rellena el interior de círculos y polígonos; con `fill=False`, sólo se traza su borde. \n",
    "\n",
    "La opción `alpha` es un número entre $0$ y $1$ que fija el grado de opacidad de la figura ($0=$ transparente, $1=$ opaca). No es opción válida de `arrow`.\n",
    "\n",
    "Para `line`, `arrow`, `circle` y `polygon`, el grosor de las líneas se indica con `thickness`; el estilo, con `linestyle`, que puede tomar los valores `solid`, `dashed`, `dashdot`, `dotted` o `\"\"`. En el caso de `line`, se pueden marcar los vértices de la línea poligonal trazada haciendo uso de las opciones `marker`, `markersize`, `markeredgecolor`, `markerfacecolor` y `markeredgewith`. La primera opción, `marker`, controla la forma del punto. Admite muchos valores, como `None`, `,` (píxel), `.` (punto), `_` (línea horizontal), `|` (línea vertical), `o` (círculo), `p` (pentágono), `s` (cuadrado), `x`, `+`, `*`, `D` y `d` (diamantes), `H` y `h` (hexágonos), etc. La función `point` también admite la opción `marker`, pero, en este caso, el tamaño del punto se regula con `size`.\n",
    "\n",
    "La función `arrow` tiene algunas opciones propias: `arrowsize` (tamaño de la punta de la flecha), `width`(ancho del astil), `head` (en qué extremo situar una punta: `0`, `1` o `2`, para ponerla al principio, al final o en ambos extemos) y `arrowshorten` (para acortar la longitud de la flecha).\n",
    "\n",
    "La función `text` cuenta también con las opciones  `fontstyle` (valores `normal`, `italic`, `oblique`), `fontweight` (valores `ultralight`, `light`, `normal`, `regular`, `book`, `medium`, `roman`, `semibold`, `demibold`, `demi`, `bold`, `heavy`, `extra bold`, `black`), `background_color` (color del fondo sobre el que se escribe el texto), `rotation` (ángulo de giro del texto en grados sexagesimales), `vertical_alignment` (alineamiento vertical del texto, que puede ser `top`, `center`, `bottom`) y `horizontal_alignment` (alineamiento horizontal; posibles valores: `left`, `center`, `right`).\n",
    "\n",
    "En fin, el valor de la opción `zorder` es un entero cualquiera (incluso negativo). Cuando dos o más elementos gráficos se solapan, resulta visible aquél que tenga el valor más alto de `zorder`.\n",
    "\n",
    "En las celdas siguientes se ejemplifican muchas de las opciones mencionadas:"
   ]
  },
  {
   "cell_type": "code",
   "execution_count": null,
   "metadata": {},
   "outputs": [],
   "source": [
    "# Representación de un triángulo, su círculo circunscrito y su circuncentro.\n",
    "# Para facilitar el dibujo, los vértices A, B y C del triángulo pertenecen\n",
    "# a la circunferencia x^2 + y^2 = 16. El circuncentro es (0,0).\n",
    "# Coordenadas de los vértices:\n",
    "A, B, C = vector((-3,-sqrt(7))), vector((-1,sqrt(15))), vector((4,0))\n",
    "# Triángulo, circunferencia circunscrita y circuncentro\n",
    "triangulo = polygon([A,B,C], color=\"lightgreen\", edgecolor=\"green\", zorder=0)\n",
    "circunferencia = circle((0,0), 4, thickness=2, fill=True, \n",
    "                        edgecolor=\"darkblue\", facecolor=\"lightcyan\", zorder=-1)\n",
    "circuncentro = point((0,0), color=\"red\", marker=\"o\", size=30, zorder=10)\n",
    "# Mediatrices de los lados\n",
    "pmAB = (A+B)/2   # punto medio del lado AB\n",
    "mAB  = line([-2.2*pmAB,2.2*pmAB], linestyle=\"dashed\", color=\"dimgray\")\n",
    "pmAC = (A+C)/2   # punto medio del lado AC\n",
    "mAC  = line([-3.2*pmAC,3.2*pmAC], linestyle=\"dashed\", color=\"dimgray\")\n",
    "pmBC = (B+C)/2   # punto medio del lado BC\n",
    "mBC  = line([-1.9*pmBC,1.9*pmBC], linestyle=\"dashed\", color=\"dimgray\")\n",
    "# Combinamos todo\n",
    "todo = triangulo + circunferencia + circuncentro + mAB + mAC + mBC\n",
    "# Añadimos texto\n",
    "todo += text(\"A\", A, horizontal_alignment=\"right\",vertical_alignment=\"top\", color=\"black\") \n",
    "todo += text(\"B\", B, vertical_alignment=\"bottom\", color=\"black\") \n",
    "todo += text(\"C\", C, horizontal_alignment=\"left\", color=\"black\")\n",
    "todo += text(\"circuncentro\", (-0.5,-3.05), horizontal_alignment=\"center\", color=\"black\")\n",
    "todo += arrow((-0.5,-3),(0,0), arrowshorten=8, arrowsize=3)\n",
    "# Dibujamos\n",
    "todo.show(axes=False)"
   ]
  },
  {
   "cell_type": "code",
   "execution_count": null,
   "metadata": {},
   "outputs": [],
   "source": [
    "# Representación de las funciones coseno y seno\n",
    "# mediante dos líneas poligonales\n",
    "p1 = [(t, cos(t)) for t in srange(-pi,4*pi,pi/8)]\n",
    "lin1 = line(p1, color=\"darkgreen\", thickness=2, marker=\"s\", \n",
    "            markeredgecolor=\"gray\", markerfacecolor=\"lightgreen\",\n",
    "            legend_label=\"cos\", zorder=10)\n",
    "p2 = [(t, sin(t)) for t in srange(-pi,4*pi,pi/8)]\n",
    "lin2 = line(p2, color=\"darkblue\", thickness=2, marker=\"o\", \n",
    "            markeredgecolor=\"gray\",markerfacecolor=\"lightskyblue\",\n",
    "            legend_label=\"sen\", zorder=10)\n",
    "lin =  lin1 + lin2\n",
    "lin.set_axes_range(-9*pi/8, 4*pi, -1.1, 1.1)\n",
    "op_leyenda = dict(numpoints=2, loc=0, handlelength=2, labelspacing=0.4, \n",
    "                  back_color=(0.95,0.95,0.95), fancybox=True)\n",
    "lin.show(frame=True, legend_options=op_leyenda)"
   ]
  },
  {
   "cell_type": "markdown",
   "metadata": {},
   "source": [
    "Pongamos un ejemplo adicional, que usa además las funciones [`arc`](http://doc.sagemath.org/html/en/reference/plotting/sage/plot/arc.html#sage.plot.arc.arc) y [`disk`](http://doc.sagemath.org/html/en/reference/plotting/sage/plot/disk.html#sage.plot.disk.disk) para trazar algunos arcos de circunferencias y un sector circular:"
   ]
  },
  {
   "cell_type": "code",
   "execution_count": null,
   "metadata": {},
   "outputs": [],
   "source": [
    "# Dibujo de una cara\n",
    "# Cabeza, boca y nariz\n",
    "cara = circle((0,-1), 10, fill=True, facecolor=\"lightcyan\", \n",
    "              edgecolor=\"gray\", thickness=2, zorder = -1)\n",
    "cara += arc((0,-2.5), 6, sector=(3*pi/2-3*pi/10,3*pi/2+3*pi/10), \n",
    "            thickness=10, color=\"firebrick\")\n",
    "cara += disk((0,-2.5), 4, (3*pi/2-pi/6,3*pi/2+pi/6), color=\"orange\", thickness=4)\n",
    "\n",
    "# Ojos y pestañas\n",
    "for i in [-4.5,4.5]:\n",
    "    cara += circle((i,0), 4, fill=True, facecolor=\"lightgray\", \n",
    "                   edgecolor=\"gray\", thickness=2)                   # párpados\n",
    "    cara += ellipse((i,0), 4, 3, fill=True, facecolor=\"ghostwhite\", \n",
    "                    edgecolor=\"gray\")                               # globo ocular\n",
    "    cara += circle((i,0), 3, fill=True, color=\"green\")              # iris\n",
    "    cara += circle((i,0), 1, fill=True, color=\"black\")              # pupila\n",
    "    cara += arc((i,1), 4, sector=(pi/2-pi/4,pi/2+pi/4), \n",
    "                thickness=4, color=\"black\")                         # pestaña\n",
    "\n",
    "# Dibujo de la cara\n",
    "cara.show(axes=False, figsize=5)"
   ]
  },
  {
   "cell_type": "markdown",
   "metadata": {},
   "source": [
    "<div style=\"text-align:right\">\n",
    "<a href=#Índice\n",
    "   style=\"padding:0.5em;background:#7d5d3b;color:#ffffff;text-decoration:none;\n",
    "          border:1px solid #54381e;border-radius:5px;\">Volver al índice</a>\n",
    "</div>"
   ]
  },
  {
   "cell_type": "markdown",
   "metadata": {},
   "source": [
    "## Representación de curvas planas"
   ]
  },
  {
   "cell_type": "markdown",
   "metadata": {},
   "source": [
    "### Curvas en forma explícita\n",
    "\n",
    "Dada una función $f:D\\subset\\mathbb{R}\\to\\mathbb{R}$, la representación de la curva $y=f(x)$ en un intervalo $[a,b]$ se realiza mediante la función `plot`, que se emplea de la forma siguiente:\n",
    "\n",
    "> <samp>plot</samp>(<samp>fun</samp>, <samp>rango_x</samp>, *opciones*)\n",
    "\n",
    "donde:\n",
    "* <samp>fun</samp> es una expresión simbólica que proporciona $f(x)$, o bien el nombre asignado a $f$ al definirla previamente como función Python o como función simbólica; por ejemplo, si $f(x)=x\\cos x$, cualquiera de las siguientes variantes, entre otras muchas, representa esta función en el intervalo $[-\\pi,5\\pi]$:\n",
    "\n",
    "```\n",
    "plot(x*cos(x), (x, -pi, 5*pi))       f1(x) = x*cos(x)            def f2(x): return x*cos(x)\n",
    "                                     plot(f1, (-pi, 5*pi))       plot(f2, (x, -pi, 5*pi))\n",
    "```\n",
    "* <samp>rango_x</samp> es el par ($a$,$b$) o la terna (<samp>x</samp>, $a$, $b$); si se omite, se sobreentiende que $a=-1$ y $b=1$.\n",
    "\n",
    "Al objeto de representar varias curvas simultáneamente, el argumento <samp>fun</samp> puede ser asimismo una lista de funciones. No obstante, es posible trazar cada curva con una función `plot` y sumar luego los gráficos resultantes. Ambas alternativas se ejemplifican en la celda siguiente:"
   ]
  },
  {
   "cell_type": "code",
   "execution_count": null,
   "metadata": {},
   "outputs": [],
   "source": [
    "op_leyenda = dict(loc=0, handlelength=2.5, labelspacing=0.3, fancybox=True)\n",
    "\n",
    "# Primera alternativa: trazado de dos curvas con una sola orden plot\n",
    "plot([4*sin(x),x*cos(x)], (x,-2*pi,2*pi), color=[\"red\",\"blue\"], \n",
    "     linestyle=[\"solid\",\"dashed\"], thickness=2, title=\"Primera alternativa\", \n",
    "     legend_label=[r\"$4\\,\\mathrm{sen}\\,x$\",r\"$x\\,\\cos\\,x$\"]).show(legend_options=op_leyenda)\n",
    "\n",
    "# Segunda alternativa: cada curva se traza con su propia orden plot\n",
    "p1 = plot(4*sin(x), (x,-2*pi,2*pi), color=\"red\", thickness=2, \n",
    "          legend_label=r\"$4\\,\\mathrm{sen}\\,x$\")\n",
    "p2 = plot(x*cos(x), (x,-2*pi,2*pi), color=\"blue\", linestyle=\"dashed\", thickness=2, \n",
    "          legend_label=r\"$x\\,\\cos\\,x$\")\n",
    "show(p1+p2, title=\"Segunda alternativa\", legend_options=op_leyenda) # se «suman» p1 y p2 para combinarlos "
   ]
  },
  {
   "cell_type": "markdown",
   "metadata": {},
   "source": [
    "La orden `plot?` o la [documentación](http://doc.sagemath.org/html/en/reference/plotting/sage/plot/plot.html#sage.plot.plot.plot) detallan las múltiples opciones de la función `plot`. Algunas, como `thickness`, `linestyle`, `color` o `legend_label`, usadas en la última celda, son idénticas a las de la función `line`. Mencionemos algunas otras.\n",
    "\n",
    "La opción `plot_points` señala el número mínimo de puntos que se han de utilizar para trazar el gráfico; SageMath añade más puntos donde sea necesario para refinar el dibujo:"
   ]
  },
  {
   "cell_type": "code",
   "execution_count": null,
   "metadata": {},
   "outputs": [],
   "source": [
    "p1 = plot(cos(x), (x,-pi,4*pi), plot_points=10, color=\"darkgreen\", thickness=2,\n",
    "          marker=\"s\", markersize=5, markeredgecolor=\"gray\",\n",
    "          markerfacecolor=\"lightgreen\", legend_label=\"cos\")\n",
    "p2 = plot(sin(x), (x,-pi,4*pi), plot_points=10, color=\"darkblue\", thickness=2,\n",
    "          marker=\"o\", markersize=5, markeredgecolor=\"gray\",\n",
    "          markerfacecolor=\"lightskyblue\", legend_label=\"sen\")\n",
    "p = p1 + p2\n",
    "p.set_axes_range(-9*pi/8, 4*pi, -1.1, 1.1)\n",
    "op_leyenda = dict(numpoints=2, loc=0, handlelength=2, labelspacing=0.4, \n",
    "                  back_color=(0.95,0.95,0.95), fancybox=True)\n",
    "show(p, frame=True, legend_options=op_leyenda)"
   ]
  },
  {
   "cell_type": "markdown",
   "metadata": {},
   "source": [
    "Las opciones `exclude` y `detect_poles` ayudan a tratar los puntos de discontinuidad de la función. Con la primera, se indican, mediante una lista o una ecuación de una sola variable, los puntos en los que no se ha de evaluar la función. La opción `detect_poles`, por su parte, permite localizar y, en su caso, trazar asíntotas verticales. Sus posibles valores son `True`, `False` y `\"show\"`. Las opciones `ymin` e `ymax` acotan inferior y superiormente qué parte del gráfico se muestra. Las siguientes celdas ilustran estas opciones, así como la función `graphics_array`, que sirve para presentar simultáneamente una matriz de gráficos:"
   ]
  },
  {
   "cell_type": "code",
   "execution_count": null,
   "metadata": {},
   "outputs": [],
   "source": [
    "p1 = plot(sin(floor(x)), (x,-6,6), title=\"Sin exclusiones\")\n",
    "p2 = plot(sin(floor(x)), (x,-6,6), exclude=[-6,-5..6], title=\"Exclusión de los puntos de discontinuidad\")\n",
    "graphics_array([p1,p2]).show(figsize=[6,3], frame=True, axes=False, gridlines=True, \n",
    "                             ticks=[[-6,-4..6],[-1,-1/2..1]])"
   ]
  },
  {
   "cell_type": "code",
   "execution_count": null,
   "metadata": {},
   "outputs": [],
   "source": [
    "p1 = plot(tan(pi*x), (x,-2,2), detect_poles=False, ymin=-5, ymax=5, title=\"detect_poles=False\")\n",
    "p2 = plot(tan(pi*x), (x,-2,2), detect_poles=True, ymin=-5, ymax=5, title=\"detect_poles=True\")\n",
    "p3 = plot(tan(pi*x), (x,-2,2), detect_poles=\"show\", ymin=-5, ymax=5, title='detect_poles=\"show\"')\n",
    "graphics_array([p1,p2,p3]).show(aspect_ratio=1/3, figsize=8)"
   ]
  },
  {
   "cell_type": "markdown",
   "metadata": {},
   "source": [
    "La opción `scale` controla la escala (lineal o logarítmica) que se ha de usar en cada eje. La celda siguiente compara una representación de la función $f(x)=10^{x-2}$ usando primero una escala lineal en ambos ejes (es la opción por omisión) y luego una escala logarítmica en el eje de ordenadas:"
   ]
  },
  {
   "cell_type": "code",
   "execution_count": null,
   "metadata": {},
   "outputs": [],
   "source": [
    "p1 = plot(10^(x-2), (x,0,4))                   # escala lineal en Ox y Oy\n",
    "p2 = plot(10^(x-2), (x,0,4), scale=\"semilogy\") # escala lineal en Ox y logarítmica en Oy\n",
    "graphics_array([p1,p2]).show(figsize=[6,3], frame=True, gridlines=True)"
   ]
  },
  {
   "cell_type": "markdown",
   "metadata": {},
   "source": [
    "Las opciones `fill`, `fillcolor` y `fillalpha` controlan si se rellena, y de qué modo, una región limitada, en parte, por la curva considerada. La variedad de posibilidades es muy amplia. Ilustramos sólo algunas:"
   ]
  },
  {
   "cell_type": "code",
   "execution_count": null,
   "metadata": {},
   "outputs": [],
   "source": [
    "p1 = plot(x*cos(x), (x,-2*pi,3*pi), color=\"red\", fill=True, fillcolor=\"lightgreen\", fillalpha=0.25)\n",
    "p2 = plot(x*cos(x), (x,-2*pi,3*pi), color=\"red\", fill=\"min\", fillcolor=\"lightgreen\", fillalpha=0.5)\n",
    "p3 = plot(x*cos(x), (x,-2*pi,3*pi), color=\"red\", fill=\"max\", fillcolor=\"lightgreen\", fillalpha=1)\n",
    "p4 = plot([x*cos(x),sin(x)], (x,-2*pi,3*pi), color=[\"red\",\"darkgreen\"], \n",
    "          fill={0:[1]}, fillcolor=\"lightgreen\")\n",
    "\n",
    "p = graphics_array([[p1,p2],[p3,p4]])\n",
    "p.show(figsize=8,frame=True, axes=False, gridlines=\"minors\",\n",
    "       ticks=[[-2*pi,-pi..3*pi],None], tick_formatter=[pi,None])"
   ]
  },
  {
   "cell_type": "markdown",
   "metadata": {},
   "source": [
    "Las figuras generadas con `plot` se pueden combinar con otros elementos gráficos, como líneas, flechas, puntos, círculos, polígonos o texto. La celda siguiente representa la función \n",
    "$$\n",
    "f(x)=\\frac{x(x^2-9x+8)}{x^2-1}.\n",
    "$$\n",
    "Se añaden las dos asíntotas que tiene esta función y texto que las identifica:"
   ]
  },
  {
   "cell_type": "code",
   "execution_count": null,
   "metadata": {
    "scrolled": false
   },
   "outputs": [],
   "source": [
    "f(x) = x*(x^2-9*x+8)/(x^2-1)\n",
    "x1, x2 = -10, 10\n",
    "y1, y2 = -50, 30\n",
    "\n",
    "# Grafo de f\n",
    "p = plot(f(x), (x,x1,x2), color=\"brown\", exclude=[-1,1], ymin=y1, ymax=y2, thickness=2, \n",
    "         legend_label=\"$y=f(x)$\", legend_color=\"darkblue\")\n",
    "p.set_legend_options(font_size=\"large\", handlelength=2)\n",
    "\n",
    "# Añadimos las asíntotas\n",
    "p += line([(x1,x1-9),(x2,x2-9)], linestyle=\"dashed\", color=\"darkgreen\")\n",
    "p += line([(-1,y1),(-1,y2)], linestyle=\"dashed\", color=\"darkgreen\")\n",
    "\n",
    "# Y texto con las ecuaciones de las asíntotas\n",
    "p += text(\"$y=x-9$\", (8,-5), color=\"darkblue\", fontsize=\"large\")\n",
    "p += text(\"$x=1$\", (-2,25), color=\"darkblue\", fontsize=\"large\")\n",
    "\n",
    "# Finalmente se traza la gráfica\n",
    "p.show(frame=True, gridlines=[\"minor\",\"major\"], aspect_ratio=1/5)"
   ]
  },
  {
   "cell_type": "markdown",
   "metadata": {},
   "source": [
    "<div style=\"text-align:right\">\n",
    "<a href=#Índice\n",
    "   style=\"padding:0.5em;background:#7d5d3b;color:#ffffff;text-decoration:none;\n",
    "          border:1px solid #54381e;border-radius:5px;\">Volver al índice</a>\n",
    "</div>"
   ]
  },
  {
   "cell_type": "markdown",
   "metadata": {},
   "source": [
    "### Curvas en forma paramétrica\n",
    "\n",
    "Consideremos una curva dada en forma paramétrica mediante la ecuación $(x,y)=\\boldsymbol{\\varphi}(t)$, con $\\boldsymbol{\\varphi}=(\\varphi_1,\\varphi_2):I\\subset\\mathbb{R}\\to\\mathbb{R}^2$. La función `parametric_plot` traza un arco de esta curva cuando el parámetro $t$ recorre un intervalo $[a,b]$ del dominio de $\\boldsymbol{\\varphi}$. La sintaxis de esta orden es:\n",
    "\n",
    "> <samp>parametric_plot</samp>(<samp>fun</samp>, <samp>rango_t</samp>, *opciones*),\n",
    "\n",
    "donde:\n",
    "* <samp>fun</samp> es una lista, tupla o vector que proporciona la parametrización $\\boldsymbol{\\varphi}$,\n",
    "* <samp>rango_t</samp> es un par ($a$, $b$) o una terna (<samp>t</samp>, $a$, $b$).\n",
    "\n",
    "Las opciones son similares a las de `plot`. Damos a continuación algunos ejemplos. Trazamos primero la curva \n",
    "$$\n",
    "   \\left\\{\n",
    "   \\begin{aligned}\n",
    "      &x=t\\cos t, \\\\\n",
    "      &y=t\\,\\mathrm{sen}\\,t,\n",
    "   \\end{aligned}\n",
    "   \\right.\n",
    "   \\quad t\\in[0,8\\pi],\n",
    "$$\n",
    "llamada *espiral de Arquímedes*: "
   ]
  },
  {
   "cell_type": "code",
   "execution_count": null,
   "metadata": {},
   "outputs": [],
   "source": [
    "var(\"t\")\n",
    "parametric_plot([t*cos(t), t*sin(t)], (0,8*pi))"
   ]
  },
  {
   "cell_type": "markdown",
   "metadata": {},
   "source": [
    "Una *epicicloide* es una curva generada por un punto de una circunferencia de radio $b$ que rueda  por el exterior de otra circunferencia de radio $a$. Su parametrización es\n",
    "$$\n",
    "   \\renewcommand{\\sin}{\\operatorname{sen}}\n",
    "   \\left\\{\n",
    "   \\begin{aligned}\n",
    "      &x = (a + b)\\cos t - b\\cos((a/b + 1)t), \\\\\n",
    "      &y = (a + b)\\sin t - b\\sin((a/b + 1)t).\n",
    "   \\end{aligned}\n",
    "   \\right.\n",
    "$$\n",
    "Representamos el caso $a=10$ y $b=3$:"
   ]
  },
  {
   "cell_type": "code",
   "execution_count": null,
   "metadata": {},
   "outputs": [],
   "source": [
    "a, b = 10, 3\n",
    "phi_1(t) = (a + b)*cos(t) - b*cos((a/b + 1)*t)\n",
    "phi_2(t) = (a + b)*sin(t) - b*sin((a/b + 1)*t)\n",
    "parametric_plot((phi_1(t),phi_2(t)), (t,0,6*pi))"
   ]
  },
  {
   "cell_type": "markdown",
   "metadata": {},
   "source": [
    "Trazamos ahora una *rosa de cuatro pétalos*, curva cuya expresión explícita en coordenadas polares es $r=\\cos2\\theta$. Usamos la opción `fill` para dar color a la región limitada por esta curva:"
   ]
  },
  {
   "cell_type": "code",
   "execution_count": null,
   "metadata": {},
   "outputs": [],
   "source": [
    "# Rosa de cuatro pétalos\n",
    "var(\"theta\")\n",
    "def phi(theta):\n",
    "    r = cos(2*theta)\n",
    "    return (r*cos(theta), r*sin(theta))\n",
    "parametric_plot(phi(theta), (theta,0,2*pi), color=\"darkgreen\", fill=True, \n",
    "                fillcolor=\"lightgreen\", linestyle=\"dotted\", frame=True, axes=False)"
   ]
  },
  {
   "cell_type": "markdown",
   "metadata": {},
   "source": [
    "Como último ejemplo, representamos una *curva de Lissajous*:"
   ]
  },
  {
   "cell_type": "code",
   "execution_count": null,
   "metadata": {
    "scrolled": false
   },
   "outputs": [],
   "source": [
    "a, b = 3/4, pi/5\n",
    "parametric_plot([sin(t), sin(a*t + b)], (t,0,8*pi), color=\"green\", \n",
    "                fill=True, fillcolor=\"orange\", frame=True, axes=False)"
   ]
  },
  {
   "cell_type": "markdown",
   "metadata": {},
   "source": [
    "<div style=\"text-align:right\">\n",
    "<a href=#Índice\n",
    "   style=\"padding:0.5em;background:#7d5d3b;color:#ffffff;text-decoration:none;\n",
    "          border:1px solid #54381e;border-radius:5px;\">Volver al índice</a>\n",
    "</div>"
   ]
  },
  {
   "cell_type": "markdown",
   "metadata": {},
   "source": [
    "### Curvas en forma implícita\n",
    "\n",
    "Dadas dos funciones $F, G:D\\subset\\mathbb{R}^2\\to\\mathbb{R}$, la función `implicit_plot` representa la porción de la curva $F(x,y)=G(x,y)$ que se encuentre en un determinado rectángulo $[a_1,b_1]\\times[a_2,b_2]$. Esta función admite la siguiente sintaxis:\n",
    "\n",
    "> <samp>implicit_plot</samp>($F(x,y)$<samp>==</samp>$G(x,y)$, <samp>rango_x</samp>, <samp>rango_y</samp>, *opciones*)\n",
    " \n",
    "donde:\n",
    "* <samp>rango_x</samp> es el par ($a_1$, $b_1$) o la terna (<samp>x</samp>, $a_1$, $b_1$),\n",
    "* <samp>rango_y</samp> es el par ($a_2$, $b_2$) o la terna (<samp>y</samp>, $a_2$, $b_2$).\n",
    "\n",
    "Si $G\\equiv0$, en el primer argumento se puede escribir simplemente $F(x,y)$, o incluso $F$, en lugar de $F(x,y)$<samp>==</samp>$0$.\n",
    "\n",
    "Las opciones de `implicit_plot` son análogas a las de la función `plot`. En particular, si `fill=True`, se rellena la porción del plano que satisface $F(x,y)-G(x,y)<0$ con el color que indique `fillcolor`. Pongamos algunos ejemplos. Representamos primero la curva $(x^2+y^2)^2=x^2-y^2$:"
   ]
  },
  {
   "cell_type": "code",
   "execution_count": null,
   "metadata": {},
   "outputs": [],
   "source": [
    "var(\"x,y\")\n",
    "implicit_plot((x^2+y^2)^2==x^2-y^2, (x,-1.2,1.2), (y,-0.5,0.5), plot_points=250,\n",
    "              color=\"darkgreen\", gridlines=True)"
   ]
  },
  {
   "cell_type": "markdown",
   "metadata": {},
   "source": [
    "Dada la función $F(x,y)= x^3-2x+y^2-1$, trazamos ahora la curva $F(x,y)=0$ con una línea discontinua y marcamos la región del plano en la que tal función es negativa:"
   ]
  },
  {
   "cell_type": "code",
   "execution_count": null,
   "metadata": {},
   "outputs": [],
   "source": [
    "F(x,y) = x^3-2*x+y^2-1\n",
    "implicit_plot(F(x,y), (-4,2), (-4,4), color='darkgreen', linestyle=\"dashed\", \n",
    "              fill=True, fillcolor=\"lightgreen\", frame=True)"
   ]
  },
  {
   "cell_type": "markdown",
   "metadata": {},
   "source": [
    "Dibujamos finalmente varios elementos de las familias ortogonales de curvas $(x-c)^2+y^2=c^2$ y $x^2+(y-c)^2=c^2$:"
   ]
  },
  {
   "cell_type": "code",
   "execution_count": null,
   "metadata": {},
   "outputs": [],
   "source": [
    "var(\"x,y\")\n",
    "p = sum(implicit_plot((x-c)^2+y^2-c^2, (x,-5,5), (y,-5,5), color=\"darkgreen\") for c in [-2.5,-1.5..2.5])\n",
    "q = sum(implicit_plot(x^2+(y-c)^2-c^2, (x,-5,5), (y,-5,5), color=\"darkred\") for c in [-2.5,-1.5..2.5])\n",
    "show(p+q)"
   ]
  },
  {
   "cell_type": "markdown",
   "metadata": {},
   "source": [
    "<div style=\"text-align:right\">\n",
    "<a href=#Índice\n",
    "   style=\"padding:0.5em;background:#7d5d3b;color:#ffffff;text-decoration:none;\n",
    "          border:1px solid #54381e;border-radius:5px;\">Volver al índice</a>\n",
    "</div>"
   ]
  },
  {
   "cell_type": "markdown",
   "metadata": {},
   "source": [
    "### Curvas de nivel\n",
    "\n",
    "Las *curvas de nivel* de una función $F:D\\subset\\mathbb{R}^2\\to\\mathbb{R}$ son las curvas de ecuación $F(x,y)=c$ para cada $c$ perteneciente al recorrido de $F$. En SageMath se trazan con la función `contour_plot`, que se usa del siguiente modo:\n",
    "\n",
    "> <samp>contour_plot</samp>(<samp>fun</samp>, <samp>rango_x</samp>, <samp>rango_y</samp>, *opciones*), \n",
    "\n",
    "donde:\n",
    "* <samp>fun</samp> es una expresión o función que proporciona la función $F$, \n",
    "* <samp>rango_x</samp> es un par ($a_1$, $b_1$) o una terna (<samp>x</samp>, $a_1$, $b_1$),\n",
    "* <samp>rango_y</samp> es un par ($a_2$, $b_2$) o una terna (<samp>y</samp>, $a_2$, $b_2$).\n",
    "\n",
    "Se selecciona automáticamente la relación de valores de $c$ para los que se dibujan las correspondientes curvas $F(x,y)=c$; con la opción `contours` se puede cambiar tanto el número de curvas, proporcionando el entero adecuado, como las lista de valores.\n",
    "\n",
    "Por omisión, se colorean las curvas de nivel y el espacio entre ellas con una gama de grises. Se cambia la gama con la opción `cmap`, que puede ser una de las gamas predefinidas (`jet`, `coolwarm`, `terrain`...) o una lista de colores. Con `colorbar=True`, se añade una barra con el rango de valores y colores asociados. El espacio entre curvas queda en blanco si `fill=False`. \n",
    "\n",
    "Análogamente, si `labels=True`, se anota en cada curva el valor de $c$ asociado. El formato de este número se controla con `label_fontsize`, `label_colors`, `label_inline`, `label_inline_spacing` y `label_fmt`. \n",
    "\n",
    "La opción `plot_points` indica el número de puntos en los que se evalúa la función para trazar las curvas. Las opciones `linewidths` y `linestyles` regulan el aspecto de las curvas; se les puede asignar un único valor, que se emplea para todas las curvas, o una lista de valores, que se aplica entonces cíclicamente.\n",
    "\n",
    "En la celda siguiente se muestran las curvas de nivel de la función $F(x,y)=x^2-y^2$ de diversos modos. Se puede apreciar así el efecto de muchas de las opciones mencionadas:"
   ]
  },
  {
   "cell_type": "code",
   "execution_count": null,
   "metadata": {},
   "outputs": [],
   "source": [
    "var(\"x,y\")\n",
    "p1 = contour_plot(x^2-y^2, (x,-2,2), (y,-2,2))\n",
    "p2 = contour_plot(x^2-y^2, (x,-2,2), (y,-2,2), contours=15, cmap=[\"dimgray\"], fill=False,\n",
    "                  labels=True, label_inline=True, label_fontsize=7)\n",
    "p3 = contour_plot(x^2-y^2, (x,-2,2), (y,-2,2), contours=15, cmap=\"coolwarm\", colorbar=True)\n",
    "p4 = contour_plot(x^2-y^2, (x,-2,2), (y,-2,2), contours=15, cmap=\"coolwarm\", colorbar=True,\n",
    "                  fill=False, linewidths=3, linestyles=[\"solid\",\"dashed\"], \n",
    "                  labels=True, label_fmt=\"%1.1f\", label_inline=True, label_inline_space=4, \n",
    "                  label_fontsize=7, label_colors=\"black\")\n",
    "p5 = contour_plot(x^2-y^2, (x,-2,2), (y,-2,2), contours=[-2,0,2], \n",
    "                  cmap=[\"darkblue\",\"blue\",\"gray\",\"red\",\"darkred\"], \n",
    "                  labels=True, label_fmt={-2:\"frío\", 0:\"templado\", 2:\"caliente\"},\n",
    "                  label_fontsize=10, label_colors=\"white\")\n",
    "p6 = contour_plot(x^2-y^2, (x,-2,2), (y,-2,2), contours=[-3..3], cmap=\"coolwarm\", fill=False, \n",
    "                  labels=True, label_fmt=lambda x:\"$z={:1.0f}$\".format(x), \n",
    "                  label_inline=True, label_inline_space=2, \n",
    "                  label_fontsize=10, label_colors=\"black\")\n",
    "\n",
    "graphics_array([[p1,p2],[p3,p4],[p5,p6]]).show(figsize=[10,12])"
   ]
  },
  {
   "cell_type": "markdown",
   "metadata": {},
   "source": [
    "No es posible usar en una misma función `contour_plot` dos gamas de colores, una para las curvas y otra para el relleno. No obstante, sí es posible superponer dos gráficos, lo cual puede ser conveniente para remarcar las curvas de nivel. Compárense los gráficos a izquierda y derecha:"
   ]
  },
  {
   "cell_type": "code",
   "execution_count": null,
   "metadata": {},
   "outputs": [],
   "source": [
    "var(\"x,y\")\n",
    "f(x,y) = (2*x+3*y^2) / (x^2+y^2+1)^2\n",
    "p = contour_plot(f(x,y), (x,-2,2), (y,-2,2), contours=15, plot_points=200,\n",
    "                 cmap=[\"black\"], fill=False, linewidths=0.9)\n",
    "q = contour_plot(f(x,y), (x,-2,2), (y,-2,2), contours=15, plot_points=200,\n",
    "                 cmap=\"jet\", colorbar=True)\n",
    "graphics_array([q,q+p]).show(figsize=[12,5])"
   ]
  },
  {
   "cell_type": "markdown",
   "metadata": {},
   "source": [
    "Mencionemos, para terminar, la opción `region`, que permite restringir el dibujo de las curvas a una zona determinada del plano. El valor que se asigne a esta opción ha de ser una función numérica o booleana. Sólo se trazarán curvas allí donde tal función sea positiva, si es numérica, o tome el valor `True`, si es booleana. Por ejemplo, en la siguiente celda, se limita el dibujo de las curvas de nivel de la función $f(x,y)=\\sin(x+y)\\cos(x-y)$ a la banda comprendida entre las rectas $y=x-4.5$ e $y=x+4.5$:"
   ]
  },
  {
   "cell_type": "code",
   "execution_count": null,
   "metadata": {},
   "outputs": [],
   "source": [
    "def f(x,y):\n",
    "    return sin(x+y)*cos(x-y)\n",
    "contour_plot(f(x,y), (x,-3,3), (y,-3,3), contours=15, cmap=\"jet\", colorbar=True,\n",
    "             region=lambda x,y: x-4.5<y<x+4.5)"
   ]
  },
  {
   "cell_type": "markdown",
   "metadata": {},
   "source": [
    "<div style=\"text-align:right\">\n",
    "<a href=#Índice\n",
    "   style=\"padding:0.5em;background:#7d5d3b;color:#ffffff;text-decoration:none;\n",
    "          border:1px solid #54381e;border-radius:5px;\">Volver al índice</a>\n",
    "</div>"
   ]
  },
  {
   "cell_type": "markdown",
   "metadata": {},
   "source": [
    "## Regiones planas\n",
    "\n",
    "Ya hemos visto que la opción `fill` de las funciones `plot`, `parametric_plot` e `implicit_plot` permite dar color a diversas regiones planas. Lo mismo sucede con la función `contour_plot`. SageMath cuenta, además, con la función `region_plot`, cuya sintaxis es\n",
    "\n",
    "> <samp>region_plot</samp>(<samp>desig</samp>, <samp>rango_x</samp>, <samp>rango_y</samp>, *opciones*), \n",
    "\n",
    "donde:\n",
    "* <samp>desig</samp> es una expresión o función que indique la desigualdad, o lista de desigualdades, que satisfacen los puntos de la región que se quiere marcar, \n",
    "* <samp>rango_x</samp> es un par ($a_1$, $b_1$) o una terna (<samp>x</samp>, $a_1$, $b_1$),\n",
    "* <samp>rango_y</samp> es un par ($a_2$, $b_2$) o una terna (<samp>y</samp>, $a_2$, $b_2$).\n",
    "\n",
    "Los colores del interior y del exterior de la región se regulan con las opciones `incol` y `outcol`; la apariencia del borde se fija con `bordercol`, `borderstyle` y `borderwidth`. Son admisibles más opciones como `plot_points` o `alpha`.\n",
    "La celda siguiente muestra cómo representar la región $x^4+y^4-5x^3+3y<1$, con $(x,y)\\in[-1,5.2]\\times[-3.2,3]$:"
   ]
  },
  {
   "cell_type": "code",
   "execution_count": null,
   "metadata": {},
   "outputs": [],
   "source": [
    "var(\"x,y\")\n",
    "region_plot([x^4+y^4-5*x^3+3*y<1], (x,-1,5.2), (y,-3.2,3), \n",
    "            incol=\"lightgreen\", outcol=\"lightgray\", bordercol=\"darkgreen\", frame=True)"
   ]
  },
  {
   "cell_type": "markdown",
   "metadata": {},
   "source": [
    "Se representa ahora el conjunto limitado por las circunferencias $x^2+y^2=2x$ y $x^2+y^2=4x$ y las rectas $y=x$ e $y=0$. Cada punto $(x,y)$ de este conjunto satisface las condiciones\n",
    "$$\n",
    "  2x\\leq x^2+y^2 \\leq 4x,\\quad 0\\leq y\\leq x.\n",
    "$$\n",
    "Las cuatro desigualdades se pasan, en forma de lista, como primer argumento de `region_plot`:"
   ]
  },
  {
   "cell_type": "code",
   "execution_count": null,
   "metadata": {},
   "outputs": [],
   "source": [
    "var(\"x,y\")\n",
    "r = region_plot([x^2+y^2>=2*x, x^2+y^2<=4*x, 0<=y, y<=x], (x,0,4), (y,-0.5,2), \n",
    "                plot_points=200, incol=\"lightgreen\", bordercol=\"darkgreen\", borderwidth=3)\n",
    "p = plot(x, (-0.5,4), linestyle=\"dashed\", color=\"gray\", zorder=0)\n",
    "q1 = implicit_plot(x^2+y^2==2*x, (x,0,4), (y,0,2), color=\"gray\", linestyle=\"dashed\")\n",
    "q2 = implicit_plot(x^2+y^2==4*x, (x,0,4), (y,0,2), color=\"gray\", linestyle=\"dashed\")\n",
    "\n",
    "show(p+q1+q2+r, frame=False, ymin=-0.5, ymax=2.5, aspect_ratio=1)"
   ]
  },
  {
   "cell_type": "markdown",
   "metadata": {},
   "source": [
    "Se procede análogamente para representar el conjunto \n",
    "$\\{ (x,y)\\in\\mathbb{R}^2 \\mid 1\\lt x^2-y^2\\lt 6,\\ x^2+y^2\\lt 9\\}$:"
   ]
  },
  {
   "cell_type": "code",
   "execution_count": null,
   "metadata": {},
   "outputs": [],
   "source": [
    "var(\"x,y\")\n",
    "region_plot([1<x^2-y^2, x^2-y^2<6, x^2+y^2<9], (x,-3,3), (y,-3,3), plot_points=200,\n",
    "            incol=\"lightgreen\", bordercol=\"darkgreen\", borderstyle=\"dashed\", frame=True)"
   ]
  },
  {
   "cell_type": "markdown",
   "metadata": {},
   "source": [
    "El primer argumento de `region_plot` puede ser también el nombre de una función booleana más o menos compleja. Por ejemplo, la celda siguiente colorea, dentro del rectángulo $[-3,3]\\times[-3,3]$, los puntos $(x,y)$ tales que, o bien \n",
    "$\\lvert\\sin(x^2-y^2)\\rvert\\leq 1/2$, o bien $\\lvert\\cos(x^2+y^2)\\rvert\\leq 1/2$:"
   ]
  },
  {
   "cell_type": "code",
   "execution_count": null,
   "metadata": {},
   "outputs": [],
   "source": [
    "def f(x,y):\n",
    "    return abs(sin(x^2-y^2))<0.5 or abs(cos(x^2+y^2))<0.5\n",
    "region_plot(f, (x,-3,3), (y,-3,3), plot_points=400,\n",
    "            incol=\"lightgreen\", bordercol=\"darkgreen\", frame=True)"
   ]
  },
  {
   "cell_type": "markdown",
   "metadata": {},
   "source": [
    "<div style=\"text-align:right\">\n",
    "<a href=#Índice\n",
    "   style=\"padding:0.5em;background:#7d5d3b;color:#ffffff;text-decoration:none;\n",
    "          border:1px solid #54381e;border-radius:5px;\">Volver al índice</a>\n",
    "</div>"
   ]
  },
  {
   "cell_type": "markdown",
   "metadata": {},
   "source": [
    "<div class=\"alert alert-block alert-warning\">\n",
    "<strong>Celda de configuración</strong>.\n",
    "La evaluación de la celda siguiente cambia el formato por omisión de este cuaderno.\n",
    "</div>"
   ]
  },
  {
   "cell_type": "code",
   "execution_count": 1,
   "metadata": {},
   "outputs": [
    {
     "data": {
      "text/html": [
       "<style>\n",
       "h1{text-align: center; color: rgb(185,74,72);}\n",
       "h2{text-align: center; color: rgb(0,102,0); padding: 0.25em 0;\n",
       "   border: 2px solid rgb(0,191,0); border-width: 2px 0;}\n",
       "h3{border-bottom: 2px solid rgb(153,153,153);} \n",
       "h4{color: rgb(58,135,173); font-size: 115%!important;\n",
       "   font-weight: bold!important;}\n",
       ".text_cell_render{font-family: \"Trebuchet MS\",Geneva,sans-serif;\n",
       "                  font-size: 110%; line-height: 1.5;}\n",
       ".MathJax_Display{margin: 0.5em 0;}\n",
       "</style>"
      ],
      "text/plain": [
       "<IPython.core.display.HTML object>"
      ]
     },
     "metadata": {},
     "output_type": "display_data"
    }
   ],
   "source": [
    "%%html\n",
    "<style>\n",
    "h1{text-align: center; color: rgb(185,74,72);}\n",
    "h2{text-align: center; color: rgb(0,102,0); padding: 0.25em 0;\n",
    "   border: 2px solid rgb(0,191,0); border-width: 2px 0;}\n",
    "h3{border-bottom: 2px solid rgb(153,153,153);} \n",
    "h4{color: rgb(58,135,173); font-size: 115%!important;\n",
    "   font-weight: bold!important;}\n",
    ".text_cell_render{font-family: \"Trebuchet MS\",Geneva,sans-serif;\n",
    "                  font-size: 110%; line-height: 1.5;}\n",
    ".MathJax_Display{margin: 0.5em 0;}\n",
    "</style>"
   ]
  },
  {
   "cell_type": "markdown",
   "metadata": {},
   "source": [
    "<div class=\"alert alert-success\">\n",
    "Realizado por <emph>Juan José Torrens</emph> para la asignatura de <strong>Cálculo II</strong><br>\n",
    "Grados de <strong>Ciencias</strong> y de <strong>Ciencia de Datos</strong><br>\n",
    "Universidad Pública de Navarra<br>\n",
    "Última versión: 14-1-2021\n",
    "</div>"
   ]
  }
 ],
 "metadata": {
  "kernelspec": {
   "display_name": "SageMath 9.1",
   "language": "sage",
   "name": "sagemath"
  },
  "language_info": {
   "codemirror_mode": {
    "name": "ipython",
    "version": 3
   },
   "file_extension": ".py",
   "mimetype": "text/x-python",
   "name": "python",
   "nbconvert_exporter": "python",
   "pygments_lexer": "ipython3",
   "version": "3.7.3"
  },
  "widgets": {
   "application/vnd.jupyter.widget-state+json": {
    "state": {
     "030c38ce158240a7ae0b66f2e8c17ba9": {
      "model_module": "@jupyter-widgets/controls",
      "model_module_version": "1.4.0",
      "model_name": "ColorPickerModel",
      "state": {
       "description": "Color",
       "disabled": false,
       "layout": "IPY_MODEL_b5312c904e83428799d77e1ddc38c3e1",
       "style": "IPY_MODEL_37179da3c12d447e9d2f93a9fb91516c",
       "value": "#455663"
      }
     },
     "057fc865a5fc47eeadc2f59f5f069759": {
      "model_module": "@jupyter-widgets/base",
      "model_module_version": "1.1.0",
      "model_name": "LayoutModel",
      "state": {}
     },
     "0f8ab24bf5164488a176792145f70d3f": {
      "model_module": "@jupyter-widgets/output",
      "model_module_version": "1.0.0",
      "model_name": "OutputModel",
      "state": {
       "layout": "IPY_MODEL_b56bd51b6e8c46d7b779a216901338dd",
       "outputs": [
        {
         "data": {
          "image/png": "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\n",
          "text/plain": "Graphics object consisting of 1 graphics primitive"
         },
         "metadata": {},
         "output_type": "display_data"
        }
       ]
      }
     },
     "1320840ec88242d58caf90150040e893": {
      "model_module": "@jupyter-widgets/base",
      "model_module_version": "1.1.0",
      "model_name": "LayoutModel",
      "state": {}
     },
     "1c32f69754914370b6f426c8540bbbdb": {
      "model_module": "@jupyter-widgets/controls",
      "model_module_version": "1.4.0",
      "model_name": "DropdownModel",
      "state": {
       "_options_labels": [
        "Accent",
        "Accent_r",
        "Blues",
        "Blues_r",
        "BrBG",
        "BrBG_r",
        "BuGn",
        "BuGn_r",
        "BuPu",
        "BuPu_r",
        "CMRmap",
        "CMRmap_r",
        "Dark2",
        "Dark2_r",
        "GnBu",
        "GnBu_r",
        "Greens",
        "Greens_r",
        "Greys",
        "Greys_r",
        "OrRd",
        "OrRd_r",
        "Oranges",
        "Oranges_r",
        "PRGn",
        "PRGn_r",
        "Paired",
        "Paired_r",
        "Pastel1",
        "Pastel1_r",
        "Pastel2",
        "Pastel2_r",
        "PiYG",
        "PiYG_r",
        "PuBu",
        "PuBuGn",
        "PuBuGn_r",
        "PuBu_r",
        "PuOr",
        "PuOr_r",
        "PuRd",
        "PuRd_r",
        "Purples",
        "Purples_r",
        "RdBu",
        "RdBu_r",
        "RdGy",
        "RdGy_r",
        "RdPu",
        "RdPu_r",
        "RdYlBu",
        "RdYlBu_r",
        "RdYlGn",
        "RdYlGn_r",
        "Reds",
        "Reds_r",
        "Set1",
        "Set1_r",
        "Set2",
        "Set2_r",
        "Set3",
        "Set3_r",
        "Spectral",
        "Spectral_r",
        "Wistia",
        "Wistia_r",
        "YlGn",
        "YlGnBu",
        "YlGnBu_r",
        "YlGn_r",
        "YlOrBr",
        "YlOrBr_r",
        "YlOrRd",
        "YlOrRd_r",
        "afmhot",
        "afmhot_r",
        "autumn",
        "autumn_r",
        "binary",
        "binary_r",
        "bone",
        "bone_r",
        "brg",
        "brg_r",
        "bwr",
        "bwr_r",
        "cool",
        "cool_r",
        "coolwarm",
        "coolwarm_r",
        "copper",
        "copper_r",
        "cubehelix",
        "cubehelix_r",
        "flag",
        "flag_r",
        "gist_earth",
        "gist_earth_r",
        "gist_gray",
        "gist_gray_r",
        "gist_heat",
        "gist_heat_r",
        "gist_ncar",
        "gist_ncar_r",
        "gist_rainbow",
        "gist_rainbow_r",
        "gist_stern",
        "gist_stern_r",
        "gist_yarg",
        "gist_yarg_r",
        "gnuplot",
        "gnuplot2",
        "gnuplot2_r",
        "gnuplot_r",
        "gray",
        "gray_r",
        "hot",
        "hot_r",
        "hsv",
        "hsv_r",
        "jet",
        "jet_r",
        "nipy_spectral",
        "nipy_spectral_r",
        "ocean",
        "ocean_r",
        "pink",
        "pink_r",
        "prism",
        "prism_r",
        "rainbow",
        "rainbow_r",
        "seismic",
        "seismic_r",
        "spring",
        "spring_r",
        "summer",
        "summer_r",
        "tab10",
        "tab10_r",
        "tab20",
        "tab20_r",
        "tab20b",
        "tab20b_r",
        "tab20c",
        "tab20c_r",
        "terrain",
        "terrain_r",
        "winter",
        "winter_r"
       ],
       "description": "Gama",
       "index": 1,
       "layout": "IPY_MODEL_db038f530d1947c3a807dc24bab067c6",
       "style": "IPY_MODEL_58e031bdd0404737a63182606f54993e"
      }
     },
     "1f97aecd04aa49978275f969fd831565": {
      "model_module": "@jupyter-widgets/controls",
      "model_module_version": "1.4.0",
      "model_name": "DropdownModel",
      "state": {
       "_options_labels": [
        "aliceblue",
        "antiquewhite",
        "aqua",
        "aquamarine",
        "automatic",
        "azure",
        "beige",
        "bisque",
        "black",
        "blanchedalmond",
        "blue",
        "blueviolet",
        "brown",
        "burlywood",
        "cadetblue",
        "chartreuse",
        "chocolate",
        "coral",
        "cornflowerblue",
        "cornsilk",
        "crimson",
        "cyan",
        "darkblue",
        "darkcyan",
        "darkgoldenrod",
        "darkgray",
        "darkgreen",
        "darkgrey",
        "darkkhaki",
        "darkmagenta",
        "darkolivegreen",
        "darkorange",
        "darkorchid",
        "darkred",
        "darksalmon",
        "darkseagreen",
        "darkslateblue",
        "darkslategray",
        "darkslategrey",
        "darkturquoise",
        "darkviolet",
        "deeppink",
        "deepskyblue",
        "dimgray",
        "dimgrey",
        "dodgerblue",
        "firebrick",
        "floralwhite",
        "forestgreen",
        "fuchsia",
        "gainsboro",
        "ghostwhite",
        "gold",
        "goldenrod",
        "gray",
        "green",
        "greenyellow",
        "grey",
        "honeydew",
        "hotpink",
        "indianred",
        "indigo",
        "ivory",
        "khaki",
        "lavender",
        "lavenderblush",
        "lawngreen",
        "lemonchiffon",
        "lightblue",
        "lightcoral",
        "lightcyan",
        "lightgoldenrodyellow",
        "lightgray",
        "lightgreen",
        "lightgrey",
        "lightpink",
        "lightsalmon",
        "lightseagreen",
        "lightskyblue",
        "lightslategray",
        "lightslategrey",
        "lightsteelblue",
        "lightyellow",
        "lime",
        "limegreen",
        "linen",
        "magenta",
        "maroon",
        "mediumaquamarine",
        "mediumblue",
        "mediumorchid",
        "mediumpurple",
        "mediumseagreen",
        "mediumslateblue",
        "mediumspringgreen",
        "mediumturquoise",
        "mediumvioletred",
        "midnightblue",
        "mintcream",
        "mistyrose",
        "moccasin",
        "navajowhite",
        "navy",
        "oldlace",
        "olive",
        "olivedrab",
        "orange",
        "orangered",
        "orchid",
        "palegoldenrod",
        "palegreen",
        "paleturquoise",
        "palevioletred",
        "papayawhip",
        "peachpuff",
        "peru",
        "pink",
        "plum",
        "powderblue",
        "purple",
        "red",
        "rosybrown",
        "royalblue",
        "saddlebrown",
        "salmon",
        "sandybrown",
        "seagreen",
        "seashell",
        "sienna",
        "silver",
        "skyblue",
        "slateblue",
        "slategray",
        "slategrey",
        "snow",
        "springgreen",
        "steelblue",
        "tan",
        "teal",
        "thistle",
        "tomato",
        "turquoise",
        "violet",
        "wheat",
        "white",
        "whitesmoke",
        "yellow",
        "yellowgreen"
       ],
       "description": "Color",
       "index": 15,
       "layout": "IPY_MODEL_4c4cdc7ad6a0469e918fb2a61c20d9a0",
       "style": "IPY_MODEL_9d46aa55a91f4602a851c964ad2d932e"
      }
     },
     "20cb05655e0d4414a76c8e4322c85ae4": {
      "model_module": "@jupyter-widgets/controls",
      "model_module_version": "1.4.0",
      "model_name": "ColorPickerModel",
      "state": {
       "description": "Color",
       "disabled": false,
       "layout": "IPY_MODEL_ef149732312b4260b90f39c82f8520dc",
       "style": "IPY_MODEL_4f020fe6554c4415aed8edc725cac4fd",
       "value": "#0000ff"
      }
     },
     "2285f84ed18548f59962e71655da2e8f": {
      "model_module": "@jupyter-widgets/base",
      "model_module_version": "1.1.0",
      "model_name": "LayoutModel",
      "state": {}
     },
     "229ccc4292c1433ba99c79c09af78066": {
      "model_module": "@jupyter-widgets/controls",
      "model_module_version": "1.4.0",
      "model_name": "VBoxModel",
      "state": {
       "_dom_classes": [
        "widget-interact"
       ],
       "children": [
        "IPY_MODEL_1f97aecd04aa49978275f969fd831565",
        "IPY_MODEL_c08a110989ee4305bfea03d04776148f"
       ],
       "layout": "IPY_MODEL_ee1b172e02d1439687a33e1f3f22af9d"
      }
     },
     "2bcb0ed87829411ea1695377d123c33e": {
      "model_module": "@jupyter-widgets/controls",
      "model_module_version": "1.4.0",
      "model_name": "VBoxModel",
      "state": {
       "_dom_classes": [
        "widget-interact"
       ],
       "children": [
        "IPY_MODEL_20cb05655e0d4414a76c8e4322c85ae4",
        "IPY_MODEL_74f95cbc29a640aba17a976c914d02bd"
       ],
       "layout": "IPY_MODEL_2285f84ed18548f59962e71655da2e8f"
      }
     },
     "37179da3c12d447e9d2f93a9fb91516c": {
      "model_module": "@jupyter-widgets/controls",
      "model_module_version": "1.4.0",
      "model_name": "DescriptionStyleModel",
      "state": {
       "description_width": ""
      }
     },
     "3d916eeb57214d6b808f7a626c38657a": {
      "model_module": "@jupyter-widgets/base",
      "model_module_version": "1.1.0",
      "model_name": "LayoutModel",
      "state": {}
     },
     "4c4cdc7ad6a0469e918fb2a61c20d9a0": {
      "model_module": "@jupyter-widgets/base",
      "model_module_version": "1.1.0",
      "model_name": "LayoutModel",
      "state": {}
     },
     "4cbee1ed4ca94bca8d1ae5feaa6ed69e": {
      "model_module": "@jupyter-widgets/controls",
      "model_module_version": "1.4.0",
      "model_name": "VBoxModel",
      "state": {
       "_dom_classes": [
        "widget-interact"
       ],
       "children": [
        "IPY_MODEL_1c32f69754914370b6f426c8540bbbdb",
        "IPY_MODEL_4fe715a893df4140af830a5eaa24f62c"
       ],
       "layout": "IPY_MODEL_db676604819a41b49f3004b8a6756b59"
      }
     },
     "4e65d7fcbcb946ce873f610aab193ace": {
      "model_module": "@jupyter-widgets/controls",
      "model_module_version": "1.4.0",
      "model_name": "DescriptionStyleModel",
      "state": {
       "description_width": ""
      }
     },
     "4f020fe6554c4415aed8edc725cac4fd": {
      "model_module": "@jupyter-widgets/controls",
      "model_module_version": "1.4.0",
      "model_name": "DescriptionStyleModel",
      "state": {
       "description_width": ""
      }
     },
     "4fe715a893df4140af830a5eaa24f62c": {
      "model_module": "@jupyter-widgets/output",
      "model_module_version": "1.0.0",
      "model_name": "OutputModel",
      "state": {
       "layout": "IPY_MODEL_d9f301cb665b490da5d798384c11cb30",
       "outputs": [
        {
         "data": {
          "image/png": "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\n",
          "text/plain": "Graphics object consisting of 1 graphics primitive"
         },
         "metadata": {},
         "output_type": "display_data"
        }
       ]
      }
     },
     "50f8371e612b4c808ce5be2d2176d483": {
      "model_module": "@jupyter-widgets/base",
      "model_module_version": "1.1.0",
      "model_name": "LayoutModel",
      "state": {}
     },
     "5521a52d56f04edd9600e6e44fec5792": {
      "model_module": "@jupyter-widgets/controls",
      "model_module_version": "1.4.0",
      "model_name": "DescriptionStyleModel",
      "state": {
       "description_width": ""
      }
     },
     "589172e2b9d0455486f5304b75c4468f": {
      "model_module": "@jupyter-widgets/controls",
      "model_module_version": "1.4.0",
      "model_name": "DropdownModel",
      "state": {
       "_options_labels": [
        "Accent",
        "Accent_r",
        "Blues",
        "Blues_r",
        "BrBG",
        "BrBG_r",
        "BuGn",
        "BuGn_r",
        "BuPu",
        "BuPu_r",
        "CMRmap",
        "CMRmap_r",
        "Dark2",
        "Dark2_r",
        "GnBu",
        "GnBu_r",
        "Greens",
        "Greens_r",
        "Greys",
        "Greys_r",
        "OrRd",
        "OrRd_r",
        "Oranges",
        "Oranges_r",
        "PRGn",
        "PRGn_r",
        "Paired",
        "Paired_r",
        "Pastel1",
        "Pastel1_r",
        "Pastel2",
        "Pastel2_r",
        "PiYG",
        "PiYG_r",
        "PuBu",
        "PuBuGn",
        "PuBuGn_r",
        "PuBu_r",
        "PuOr",
        "PuOr_r",
        "PuRd",
        "PuRd_r",
        "Purples",
        "Purples_r",
        "RdBu",
        "RdBu_r",
        "RdGy",
        "RdGy_r",
        "RdPu",
        "RdPu_r",
        "RdYlBu",
        "RdYlBu_r",
        "RdYlGn",
        "RdYlGn_r",
        "Reds",
        "Reds_r",
        "Set1",
        "Set1_r",
        "Set2",
        "Set2_r",
        "Set3",
        "Set3_r",
        "Spectral",
        "Spectral_r",
        "Wistia",
        "Wistia_r",
        "YlGn",
        "YlGnBu",
        "YlGnBu_r",
        "YlGn_r",
        "YlOrBr",
        "YlOrBr_r",
        "YlOrRd",
        "YlOrRd_r",
        "afmhot",
        "afmhot_r",
        "autumn",
        "autumn_r",
        "binary",
        "binary_r",
        "bone",
        "bone_r",
        "brg",
        "brg_r",
        "bwr",
        "bwr_r",
        "cool",
        "cool_r",
        "coolwarm",
        "coolwarm_r",
        "copper",
        "copper_r",
        "cubehelix",
        "cubehelix_r",
        "flag",
        "flag_r",
        "gist_earth",
        "gist_earth_r",
        "gist_gray",
        "gist_gray_r",
        "gist_heat",
        "gist_heat_r",
        "gist_ncar",
        "gist_ncar_r",
        "gist_rainbow",
        "gist_rainbow_r",
        "gist_stern",
        "gist_stern_r",
        "gist_yarg",
        "gist_yarg_r",
        "gnuplot",
        "gnuplot2",
        "gnuplot2_r",
        "gnuplot_r",
        "gray",
        "gray_r",
        "hot",
        "hot_r",
        "hsv",
        "hsv_r",
        "jet",
        "jet_r",
        "nipy_spectral",
        "nipy_spectral_r",
        "ocean",
        "ocean_r",
        "pink",
        "pink_r",
        "prism",
        "prism_r",
        "rainbow",
        "rainbow_r",
        "seismic",
        "seismic_r",
        "spring",
        "spring_r",
        "summer",
        "summer_r",
        "tab10",
        "tab10_r",
        "tab20",
        "tab20_r",
        "tab20b",
        "tab20b_r",
        "tab20c",
        "tab20c_r",
        "terrain",
        "terrain_r",
        "winter",
        "winter_r"
       ],
       "description": "Gama",
       "index": 120,
       "layout": "IPY_MODEL_5c7d552ebccd4b58937f412175331bb6",
       "style": "IPY_MODEL_5521a52d56f04edd9600e6e44fec5792"
      }
     },
     "58e031bdd0404737a63182606f54993e": {
      "model_module": "@jupyter-widgets/controls",
      "model_module_version": "1.4.0",
      "model_name": "DescriptionStyleModel",
      "state": {
       "description_width": ""
      }
     },
     "5af52a3274c2416d98153a5215214d3e": {
      "model_module": "@jupyter-widgets/output",
      "model_module_version": "1.0.0",
      "model_name": "OutputModel",
      "state": {
       "layout": "IPY_MODEL_7441549acbf841bda356bdae1dc5dcc3",
       "outputs": [
        {
         "data": {
          "image/png": "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\n",
          "text/plain": "Graphics object consisting of 1 graphics primitive"
         },
         "metadata": {},
         "output_type": "display_data"
        }
       ]
      }
     },
     "5c7d552ebccd4b58937f412175331bb6": {
      "model_module": "@jupyter-widgets/base",
      "model_module_version": "1.1.0",
      "model_name": "LayoutModel",
      "state": {}
     },
     "5e5576f866c540b1808dd6521f599fde": {
      "model_module": "@jupyter-widgets/output",
      "model_module_version": "1.0.0",
      "model_name": "OutputModel",
      "state": {
       "layout": "IPY_MODEL_1320840ec88242d58caf90150040e893",
       "outputs": [
        {
         "data": {
          "image/png": "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\n",
          "text/plain": "Graphics object consisting of 1 graphics primitive"
         },
         "metadata": {},
         "output_type": "display_data"
        }
       ]
      }
     },
     "62e4d855b53c48a3b7e0a6c306ddd118": {
      "model_module": "@jupyter-widgets/base",
      "model_module_version": "1.1.0",
      "model_name": "LayoutModel",
      "state": {}
     },
     "64364db92a2b4ad1adb5d12a50ca3e97": {
      "model_module": "@jupyter-widgets/controls",
      "model_module_version": "1.4.0",
      "model_name": "DescriptionStyleModel",
      "state": {
       "description_width": ""
      }
     },
     "677dfdd14f544b25b749ae62e3476aee": {
      "model_module": "@jupyter-widgets/controls",
      "model_module_version": "1.4.0",
      "model_name": "ColorPickerModel",
      "state": {
       "description": "Color",
       "disabled": false,
       "layout": "IPY_MODEL_057fc865a5fc47eeadc2f59f5f069759",
       "style": "IPY_MODEL_bbef54d8eafb4caa823ee78427e86bbe",
       "value": "#0000ff"
      }
     },
     "6b7faff985b146db8593933d4835a1c5": {
      "model_module": "@jupyter-widgets/base",
      "model_module_version": "1.1.0",
      "model_name": "LayoutModel",
      "state": {}
     },
     "6e324eb8e8f447ef8ff78eee6aba2406": {
      "model_module": "@jupyter-widgets/output",
      "model_module_version": "1.0.0",
      "model_name": "OutputModel",
      "state": {
       "layout": "IPY_MODEL_726af5af0b9e40f8a8fa01ad6fc7b79b",
       "outputs": [
        {
         "data": {
          "image/png": "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\n",
          "text/plain": "Graphics object consisting of 1 graphics primitive"
         },
         "metadata": {},
         "output_type": "display_data"
        }
       ]
      }
     },
     "70314f48ad4c4e74b0b89a4735e26e2d": {
      "model_module": "@jupyter-widgets/output",
      "model_module_version": "1.0.0",
      "model_name": "OutputModel",
      "state": {
       "layout": "IPY_MODEL_8922447df9c34af0b873a52c75a4f6d6",
       "outputs": [
        {
         "data": {
          "image/png": "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\n",
          "text/plain": "Graphics object consisting of 1 graphics primitive"
         },
         "metadata": {},
         "output_type": "display_data"
        }
       ]
      }
     },
     "726af5af0b9e40f8a8fa01ad6fc7b79b": {
      "model_module": "@jupyter-widgets/base",
      "model_module_version": "1.1.0",
      "model_name": "LayoutModel",
      "state": {}
     },
     "727612caa0694628a38ce6c4e1f62bf9": {
      "model_module": "@jupyter-widgets/output",
      "model_module_version": "1.0.0",
      "model_name": "OutputModel",
      "state": {
       "layout": "IPY_MODEL_3d916eeb57214d6b808f7a626c38657a",
       "outputs": [
        {
         "data": {
          "image/png": "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\n",
          "text/plain": "Graphics object consisting of 1 graphics primitive"
         },
         "metadata": {},
         "output_type": "display_data"
        }
       ]
      }
     },
     "7441549acbf841bda356bdae1dc5dcc3": {
      "model_module": "@jupyter-widgets/base",
      "model_module_version": "1.1.0",
      "model_name": "LayoutModel",
      "state": {}
     },
     "74f95cbc29a640aba17a976c914d02bd": {
      "model_module": "@jupyter-widgets/output",
      "model_module_version": "1.0.0",
      "model_name": "OutputModel",
      "state": {
       "layout": "IPY_MODEL_89a3367b401141f29528fc110d8a15ae",
       "outputs": [
        {
         "data": {
          "image/png": "iVBORw0KGgoAAAANSUhEUgAAAPsAAAC8CAYAAAC+L9hyAAAABHNCSVQICAgIfAhkiAAAAAlwSFlzAAAPYQAAD2EBqD+naQAAADl0RVh0U29mdHdhcmUAbWF0cGxvdGxpYiB2ZXJzaW9uIDIuMi41LCBodHRwOi8vbWF0cGxvdGxpYi5vcmcvSM8oowAADbtJREFUeJzt3H9MVfUfx/H3lfsDuNANuMHlQqCFu+CQlrdM3QqxTciwH1tDnRH+06LCH7Vmrn+k1ui62WptqQtd/9iiFeTKOQQ2pBZEClRXL+hK8PrjEiE/nLPLj3x//6h7vl0uF88l4Cbv12Pzj3vu55zP537ufYJyVA0zMwHAvLcg3AsAgLmB2AGEQOwAQiB2ACEQO4AQiB1ACMQOIARiBxACsQMIMW9i37JlC2k0GtJoNHTkyJFwLwdg1pSXlyuf9ffff1/1eSHF/s+gtFotpaWl0YsvvkiDg4MBYzs6OmjDhg2UnJxMBoOB0tPTqbCwkL7++mvy/Q3dnp4e5XoajYb0ej1lZGTQ22+/TdP5W7wFBQXk8XjoscceU44NDg5ScXExmUwmMplMVFxcTENDQ1Neh5mpvLycrFYrRUVF0erVq+nMmTN+Y0ZGRmjr1q1kNpvJaDTSE088QZcuXfIbo2Zut9tN69evJ6PRSGazmbZt20ajo6N+Y5xOJ+Xm5lJUVBSlpKTQW2+9Na392bdvHy1atIgiIyPJbrfTt99+e8tzmpqayG63U2RkJN1zzz104MCBgDHV1dW0ZMkSMhgMtGTJEvryyy9Dnnum9vxWvF4vbdmyhZYuXUparZaeeuopVefN5Xt5qz1/7bXXyOPxUGpqakivnTgEJSUlXFBQwB6Phy9evMjHjx/nlJQU3rhxo9+4I0eOsF6v53Xr1vHx48f5l19+4dbWVq6srOScnBweHBxkZubu7m4mIm5oaGCPx8M9PT18+PBhjoyM5IMHD4ayNC4pKeEnn3wy4HhBQQFnZ2dzc3MzNzc3c3Z2NhcWFk55LYfDwbGxsVxdXc1Op5M3bNjAycnJfO3aNWVMaWkpp6SkcH19Pbe3t3NeXh7fd999PD4+rnru8fFxzs7O5ry8PG5vb+f6+nq2Wq1cVlamjBkeHuakpCTeuHEjO51Orq6u5tjYWN67d29I+1NVVcU6nY4rKyvZ5XLx9u3b2Wg08oULF4Kec/78eY6Ojubt27ezy+XiyspK1ul0/MUXXyhjmpubOSIigisqKrizs5MrKipYq9Xy999/H9LcM7Xnt3L9+nUuLS3ljz76iPPz8yf9zExmrt5LNXvuk56ezu+9957q1x5y7BM359VXX+X4+Hjl8fXr1zkhIYGffvrpoNe5efMmM/8/9o6ODr/n16xZwy+99FIoS5t0bS6Xi4nI74PX0tLCRMRdXV1B12axWNjhcCjHvF4vm0wmPnDgADMzDw0NsU6n46qqKmXM5cuXecGCBVxbW6t67mPHjvGCBQv48uXLyphPP/2UDQYDDw8PMzPzvn372GQysdfrVca88847bLValX1UY/ny5VxaWup3LDMzk3ft2hX0nJ07d3JmZqbfsRdeeIFXrFihPC4qKuKCggK/Mfn5+X7fAG4190zteaiCfYOYaC7fSzV77hNq7P/qz+znz5+n2tpa0ul0yrG6ujq6evUq7dy5M+h5Go0m6HOnTp2i9vZ2euihh5RjJ06cII1GQz09PSGtr6WlhUwmk9+1VqxYQSaTiZqbmyc9p7u7m3p7e2nt2rXKMYPBQLm5uco5bW1tNDY25jfGarVSdna2MkbN3C0tLZSdnU1Wq1UZk5+fTyMjI9TW1qaMyc3NJYPB4DfmypUrqvdjdHSU2tra/NZLRLR27dqg++Cbe+I5+fn5dOrUKRobG5tyjO+6auaeqT2fLXP5XqrZ8+kKOfajR49STEwMRUVF0b333ksul4tef/115flz584REZHNZlOOnTx5kmJiYpRfR48e9bvmqlWrKCYmhvR6PT344INUVFREzz33nPJ8dHQ02Ww2vy8qavT29lJiYmLA8cTEROrt7Q16DhFRUlKS3/GkpCTlud7eXtLr9RQXFzflmFvN3dvbGzBPXFwc6fX6Kcf4Hgd7DRP19/fTn3/+OeVrmkywucfHx6m/v3/KMb7rqpl7pvZ8tszle6lmz6dLG+oJeXl5tH//frpx4wYdPHiQzp07R1u3bp3ynJycHPrxxx+JiGjx4sU0Pj7u9/xnn31GWVlZNDY2Rk6nk7Zt20ZxcXHkcDiIiGj58uXU1dUV6lKJaPLfRTDzlL+7mOw8NedMHKNm7umM4b9/oHOr9Uw0ndekZm41152pMROpGTMT5vK9nKn3e6KQv7MbjUbKyMignJwc+uCDD2hkZITefPNN5fnFixcTEdHZs2eVYwaDgTIyMigjI2PSa959992UkZFBWVlZVFRURDt27KB3332XvF5vqMvzY7FY6Lfffgs4/vvvvwd89fznOUSB3zX7+vqUcywWC42OjgbchZg45lZzWyyWgHkGBwdpbGxsyjF9fX1EFPidMBiz2UwRERFTvqbJBJtbq9VSQkLClGN811Uz90zt+WyZy/dSzZ5P17++z757927au3cvXblyhYj++rNYfHw87dmzZ9rXjIiIoPHx8YDbFqFauXIlDQ8P0w8//KAca21tpeHhYVq1atWk5yxatIgsFgvV19crx0ZHR6mpqUk5x263k06n8xvj8Xjo9OnTyhg1c69cuZJOnz5NHo9HGVNXV0cGg4Hsdrsy5ptvvvHbi7q6OrJarbRw4UJV+6DX68lut/utl4iovr4+6D745p54Tl1dHT3wwAPKH6mCjfFdV83cM7Xns2Uu30s1ez5tqn+Ux8F/emm32/nll19WHtfU1LBOp+N169ZxbW0t//rrr/zTTz/xnj17mIj4q6++YubAW28XL17kY8eOcUpKCufl5SnXa21tZZvNxpcuXQp5bQUFBZyTk8MtLS3c0tLCS5cuDbj1ZrPZuKamRnnscDjYZDJxTU0NO51O3rRp06S3gVJTU7mhoYHb29t5zZo1k956m2pu3+2aRx99lNvb27mhoYFTU1P9btcMDQ1xUlISb9q0iZ1OJ9fU1PAdd9wx7Vtvhw4dYpfLxTt27GCj0cg9PT3KmF27dnFxcbHy2Hcb6JVXXmGXy8WHDh0KuA303XffcUREBDscDu7s7GSHwxH01ttUc8/Unqtx5swZ7ujo4PXr1/Pq1au5o6PD747QZJ+3uXov1ey5z5zfemNm/uSTT1iv17Pb7VaOnTx5kp955hlOTExkrVbLCQkJnJ+fz1VVVQG33ny/IiIiODU1lZ9//nnu6+tTrtXY2MhExN3d3SGv7erVq7x582aOjY3l2NhY3rx5s3KfX9kEIv7444+Vxzdv3uTdu3ezxWJhg8HAjzzyCDudTr9z/vjjDy4rK+P4+HiOioriwsJCv9evdu4LFy7w448/zlFRURwfH89lZWV+t2aYmX/++Wd++OGH2WAwsMVi4fLycr/bbr59bGxsDLo/zMwffvghp6ens16v52XLlnFTU1PAHubm5vodO3HiBN9///2s1+t54cKFvH///oDrfv7552yz2Vin03FmZiZXV1eHPPdM7Xlubi6XlJRMuQ/p6el+nzvfL5/JPm9z9V4yq9tz3+uYtdj/y9TeM52PGhsb+c477+SBgYFwLyXs0tPT/b5wz2dzep/9v8Z3W3Dirb35rra2lt54442A21LSdHV1UWxsrN9t2/mooqKCYmJiyO12h3Sehnl+/FfSfX19dO3aNSIiSk5OJqPRGOYVAcyOgYEBGhgYICKiu+66i0wmk6rz5k3sADC1efXbeAAIDrEDCIHYAYRA7ABCIHYAIRA7gBAh/xPX243b7f7X/w4Y5DCbzZSWlhbuZcyKeR272+0mmy2LvN4b4V4K3CYiI6Pp7NnOeRn8vI69v7//79APE1FWuJcD/3md5PU+S/39/Yj99pVFRMvCvQiAsMIP6ACEQOwAQiB2ACEQO4AQiB1ACMQOIARiBxACsQMIgdgBhEDsAEIgdgAhEDuAEIgdQAjEDiAEYgcQArEDCIHYAYRA7ABCIHYAIRA7gBCIHUAIxA4gBGIHEAKxAwiB2AGEQOwAQiB2ACEQO4AQiB1ACMQOIARiBxACsQMIgdgBhEDsAEIgdgAhEDuAEIgdQAjEDiAEYgcQArEDCIHYAYRA7ABCIHYAIRA7gBCIHUAIxA4gBGIHEAKxAwiB2AGEQOwAQiB2ACEQO4AQiB1ACMQOIARiBxACsQMIgdgBhEDsAEIgdgAhEDuAEIgdQAjEDiAEYgcQArEDCIHYAYRA7ABCIHYAIRA7gBCIHUAIxA4gBGIHEAKxAwiB2AGEQOwAQiB2ACEQO4AQiB1ACMQOIARiBxACsQMIgdgBhEDsAEIgdgAhEDuAEIgdQAjEDiAEYgcQArEDCIHYAYRA7ABCIHYAIRA7gBCIHUAIxA4gBGIHEAKxAwiB2AGEQOwAQiB2ACEQO4AQiB1ACMQOIARiBxACsQMIgdgBhEDsAEIgdgAhEDuAEIgdQAjEDiAEYgcQArEDCIHYAYRA7ABCIHYAIRA7gBCIHUAIxA4gBGIHEAKxAwiB2AGEQOwAQiB2ACEQO4AQiB1ACMQOIARiBxACsQMIgdgBhEDsAEIgdgAhEDuAEIgdQAjEDiAEYgcQArEDCKEN9wLmRme4FwC3hfn9OZnXsZvNZoqMjCav99lwLwVuE5GR0WQ2m8O9jFmhYWYO9yJmk9vtpv7+/nAvA24TZrOZ0tLSwr2MWTHvYweAv+AHdABCIHYAIRA7gBCIHUAIxA4gBGIHEAKxAwiB2AGEQOwAQiB2ACEQO4AQiB1ACMQOIMT/AH1EmqXa6XdmAAAAAElFTkSuQmCC\n",
          "text/plain": "Graphics object consisting of 1 graphics primitive"
         },
         "metadata": {},
         "output_type": "display_data"
        }
       ]
      }
     },
     "79e719c1a5f64cad9b154d46d4d47999": {
      "model_module": "@jupyter-widgets/controls",
      "model_module_version": "1.4.0",
      "model_name": "DescriptionStyleModel",
      "state": {
       "description_width": ""
      }
     },
     "7c466763daae43d1a175b1cc421c4946": {
      "model_module": "@jupyter-widgets/controls",
      "model_module_version": "1.4.0",
      "model_name": "VBoxModel",
      "state": {
       "_dom_classes": [
        "widget-interact"
       ],
       "children": [
        "IPY_MODEL_ed297e0bdfe44336beef3bf58d106a38",
        "IPY_MODEL_70314f48ad4c4e74b0b89a4735e26e2d"
       ],
       "layout": "IPY_MODEL_62e4d855b53c48a3b7e0a6c306ddd118"
      }
     },
     "7fc332b5badd4e42aea8007aaafaa7a5": {
      "model_module": "@jupyter-widgets/base",
      "model_module_version": "1.1.0",
      "model_name": "LayoutModel",
      "state": {}
     },
     "8922447df9c34af0b873a52c75a4f6d6": {
      "model_module": "@jupyter-widgets/base",
      "model_module_version": "1.1.0",
      "model_name": "LayoutModel",
      "state": {}
     },
     "89a3367b401141f29528fc110d8a15ae": {
      "model_module": "@jupyter-widgets/base",
      "model_module_version": "1.1.0",
      "model_name": "LayoutModel",
      "state": {}
     },
     "9a837049634648f6a6450a14ce34f1e4": {
      "model_module": "@jupyter-widgets/controls",
      "model_module_version": "1.4.0",
      "model_name": "VBoxModel",
      "state": {
       "_dom_classes": [
        "widget-interact"
       ],
       "children": [
        "IPY_MODEL_9b9526580d024a46b78a5f401c0babb5",
        "IPY_MODEL_0f8ab24bf5164488a176792145f70d3f"
       ],
       "layout": "IPY_MODEL_f883221d8b6f45368a3613870a882580"
      }
     },
     "9b9526580d024a46b78a5f401c0babb5": {
      "model_module": "@jupyter-widgets/controls",
      "model_module_version": "1.4.0",
      "model_name": "DropdownModel",
      "state": {
       "_options_labels": [
        "aliceblue",
        "antiquewhite",
        "aqua",
        "aquamarine",
        "automatic",
        "azure",
        "beige",
        "bisque",
        "black",
        "blanchedalmond",
        "blue",
        "blueviolet",
        "brown",
        "burlywood",
        "cadetblue",
        "chartreuse",
        "chocolate",
        "coral",
        "cornflowerblue",
        "cornsilk",
        "crimson",
        "cyan",
        "darkblue",
        "darkcyan",
        "darkgoldenrod",
        "darkgray",
        "darkgreen",
        "darkgrey",
        "darkkhaki",
        "darkmagenta",
        "darkolivegreen",
        "darkorange",
        "darkorchid",
        "darkred",
        "darksalmon",
        "darkseagreen",
        "darkslateblue",
        "darkslategray",
        "darkslategrey",
        "darkturquoise",
        "darkviolet",
        "deeppink",
        "deepskyblue",
        "dimgray",
        "dimgrey",
        "dodgerblue",
        "firebrick",
        "floralwhite",
        "forestgreen",
        "fuchsia",
        "gainsboro",
        "ghostwhite",
        "gold",
        "goldenrod",
        "gray",
        "green",
        "greenyellow",
        "grey",
        "honeydew",
        "hotpink",
        "indianred",
        "indigo",
        "ivory",
        "khaki",
        "lavender",
        "lavenderblush",
        "lawngreen",
        "lemonchiffon",
        "lightblue",
        "lightcoral",
        "lightcyan",
        "lightgoldenrodyellow",
        "lightgray",
        "lightgreen",
        "lightgrey",
        "lightpink",
        "lightsalmon",
        "lightseagreen",
        "lightskyblue",
        "lightslategray",
        "lightslategrey",
        "lightsteelblue",
        "lightyellow",
        "lime",
        "limegreen",
        "linen",
        "magenta",
        "maroon",
        "mediumaquamarine",
        "mediumblue",
        "mediumorchid",
        "mediumpurple",
        "mediumseagreen",
        "mediumslateblue",
        "mediumspringgreen",
        "mediumturquoise",
        "mediumvioletred",
        "midnightblue",
        "mintcream",
        "mistyrose",
        "moccasin",
        "navajowhite",
        "navy",
        "oldlace",
        "olive",
        "olivedrab",
        "orange",
        "orangered",
        "orchid",
        "palegoldenrod",
        "palegreen",
        "paleturquoise",
        "palevioletred",
        "papayawhip",
        "peachpuff",
        "peru",
        "pink",
        "plum",
        "powderblue",
        "purple",
        "red",
        "rosybrown",
        "royalblue",
        "saddlebrown",
        "salmon",
        "sandybrown",
        "seagreen",
        "seashell",
        "sienna",
        "silver",
        "skyblue",
        "slateblue",
        "slategray",
        "slategrey",
        "snow",
        "springgreen",
        "steelblue",
        "tan",
        "teal",
        "thistle",
        "tomato",
        "turquoise",
        "violet",
        "wheat",
        "white",
        "whitesmoke",
        "yellow",
        "yellowgreen"
       ],
       "description": "Color",
       "index": 0,
       "layout": "IPY_MODEL_6b7faff985b146db8593933d4835a1c5",
       "style": "IPY_MODEL_79e719c1a5f64cad9b154d46d4d47999"
      }
     },
     "9d46aa55a91f4602a851c964ad2d932e": {
      "model_module": "@jupyter-widgets/controls",
      "model_module_version": "1.4.0",
      "model_name": "DescriptionStyleModel",
      "state": {
       "description_width": ""
      }
     },
     "9ec501f72b9e4d649714cbf5f62d8246": {
      "model_module": "@jupyter-widgets/controls",
      "model_module_version": "1.4.0",
      "model_name": "DropdownModel",
      "state": {
       "_options_labels": [
        "Accent",
        "Accent_r",
        "Blues",
        "Blues_r",
        "BrBG",
        "BrBG_r",
        "BuGn",
        "BuGn_r",
        "BuPu",
        "BuPu_r",
        "CMRmap",
        "CMRmap_r",
        "Dark2",
        "Dark2_r",
        "GnBu",
        "GnBu_r",
        "Greens",
        "Greens_r",
        "Greys",
        "Greys_r",
        "OrRd",
        "OrRd_r",
        "Oranges",
        "Oranges_r",
        "PRGn",
        "PRGn_r",
        "Paired",
        "Paired_r",
        "Pastel1",
        "Pastel1_r",
        "Pastel2",
        "Pastel2_r",
        "PiYG",
        "PiYG_r",
        "PuBu",
        "PuBuGn",
        "PuBuGn_r",
        "PuBu_r",
        "PuOr",
        "PuOr_r",
        "PuRd",
        "PuRd_r",
        "Purples",
        "Purples_r",
        "RdBu",
        "RdBu_r",
        "RdGy",
        "RdGy_r",
        "RdPu",
        "RdPu_r",
        "RdYlBu",
        "RdYlBu_r",
        "RdYlGn",
        "RdYlGn_r",
        "Reds",
        "Reds_r",
        "Set1",
        "Set1_r",
        "Set2",
        "Set2_r",
        "Set3",
        "Set3_r",
        "Spectral",
        "Spectral_r",
        "Wistia",
        "Wistia_r",
        "YlGn",
        "YlGnBu",
        "YlGnBu_r",
        "YlGn_r",
        "YlOrBr",
        "YlOrBr_r",
        "YlOrRd",
        "YlOrRd_r",
        "afmhot",
        "afmhot_r",
        "autumn",
        "autumn_r",
        "binary",
        "binary_r",
        "bone",
        "bone_r",
        "brg",
        "brg_r",
        "bwr",
        "bwr_r",
        "cool",
        "cool_r",
        "coolwarm",
        "coolwarm_r",
        "copper",
        "copper_r",
        "cubehelix",
        "cubehelix_r",
        "flag",
        "flag_r",
        "gist_earth",
        "gist_earth_r",
        "gist_gray",
        "gist_gray_r",
        "gist_heat",
        "gist_heat_r",
        "gist_ncar",
        "gist_ncar_r",
        "gist_rainbow",
        "gist_rainbow_r",
        "gist_stern",
        "gist_stern_r",
        "gist_yarg",
        "gist_yarg_r",
        "gnuplot",
        "gnuplot2",
        "gnuplot2_r",
        "gnuplot_r",
        "gray",
        "gray_r",
        "hot",
        "hot_r",
        "hsv",
        "hsv_r",
        "jet",
        "jet_r",
        "nipy_spectral",
        "nipy_spectral_r",
        "ocean",
        "ocean_r",
        "pink",
        "pink_r",
        "prism",
        "prism_r",
        "rainbow",
        "rainbow_r",
        "seismic",
        "seismic_r",
        "spring",
        "spring_r",
        "summer",
        "summer_r",
        "tab10",
        "tab10_r",
        "tab20",
        "tab20_r",
        "tab20b",
        "tab20b_r",
        "tab20c",
        "tab20c_r",
        "terrain",
        "terrain_r",
        "winter",
        "winter_r"
       ],
       "description": "Gama",
       "index": 120,
       "layout": "IPY_MODEL_d240720e7a0f4877af9a4d1168710e3a",
       "style": "IPY_MODEL_64364db92a2b4ad1adb5d12a50ca3e97"
      }
     },
     "9f0717ff52f24afaaff8aa05104cb9c8": {
      "model_module": "@jupyter-widgets/controls",
      "model_module_version": "1.4.0",
      "model_name": "VBoxModel",
      "state": {
       "_dom_classes": [
        "widget-interact"
       ],
       "children": [
        "IPY_MODEL_030c38ce158240a7ae0b66f2e8c17ba9",
        "IPY_MODEL_727612caa0694628a38ce6c4e1f62bf9"
       ],
       "layout": "IPY_MODEL_dd4fa485e2cd4b6a99fad7d506516e94"
      }
     },
     "b5312c904e83428799d77e1ddc38c3e1": {
      "model_module": "@jupyter-widgets/base",
      "model_module_version": "1.1.0",
      "model_name": "LayoutModel",
      "state": {}
     },
     "b56bd51b6e8c46d7b779a216901338dd": {
      "model_module": "@jupyter-widgets/base",
      "model_module_version": "1.1.0",
      "model_name": "LayoutModel",
      "state": {}
     },
     "bbef54d8eafb4caa823ee78427e86bbe": {
      "model_module": "@jupyter-widgets/controls",
      "model_module_version": "1.4.0",
      "model_name": "DescriptionStyleModel",
      "state": {
       "description_width": ""
      }
     },
     "c08a110989ee4305bfea03d04776148f": {
      "model_module": "@jupyter-widgets/output",
      "model_module_version": "1.0.0",
      "model_name": "OutputModel",
      "state": {
       "layout": "IPY_MODEL_50f8371e612b4c808ce5be2d2176d483",
       "outputs": [
        {
         "data": {
          "image/png": "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\n",
          "text/plain": "Graphics object consisting of 1 graphics primitive"
         },
         "metadata": {},
         "output_type": "display_data"
        }
       ]
      }
     },
     "c2bbd1839f7c4c0297b7de6af9a77450": {
      "model_module": "@jupyter-widgets/controls",
      "model_module_version": "1.4.0",
      "model_name": "VBoxModel",
      "state": {
       "_dom_classes": [
        "widget-interact"
       ],
       "children": [
        "IPY_MODEL_589172e2b9d0455486f5304b75c4468f",
        "IPY_MODEL_5af52a3274c2416d98153a5215214d3e"
       ],
       "layout": "IPY_MODEL_7fc332b5badd4e42aea8007aaafaa7a5"
      }
     },
     "c324da403244436a8158f46fe53113e0": {
      "model_module": "@jupyter-widgets/base",
      "model_module_version": "1.1.0",
      "model_name": "LayoutModel",
      "state": {}
     },
     "ce4ec2f7349f46aa9d77fafc8e3b1e43": {
      "model_module": "@jupyter-widgets/controls",
      "model_module_version": "1.4.0",
      "model_name": "VBoxModel",
      "state": {
       "_dom_classes": [
        "widget-interact"
       ],
       "children": [
        "IPY_MODEL_677dfdd14f544b25b749ae62e3476aee",
        "IPY_MODEL_5e5576f866c540b1808dd6521f599fde"
       ],
       "layout": "IPY_MODEL_efd75343c90f4ee8b467e5168cef8511"
      }
     },
     "d240720e7a0f4877af9a4d1168710e3a": {
      "model_module": "@jupyter-widgets/base",
      "model_module_version": "1.1.0",
      "model_name": "LayoutModel",
      "state": {}
     },
     "d9f301cb665b490da5d798384c11cb30": {
      "model_module": "@jupyter-widgets/base",
      "model_module_version": "1.1.0",
      "model_name": "LayoutModel",
      "state": {}
     },
     "db038f530d1947c3a807dc24bab067c6": {
      "model_module": "@jupyter-widgets/base",
      "model_module_version": "1.1.0",
      "model_name": "LayoutModel",
      "state": {}
     },
     "db676604819a41b49f3004b8a6756b59": {
      "model_module": "@jupyter-widgets/base",
      "model_module_version": "1.1.0",
      "model_name": "LayoutModel",
      "state": {}
     },
     "dd4fa485e2cd4b6a99fad7d506516e94": {
      "model_module": "@jupyter-widgets/base",
      "model_module_version": "1.1.0",
      "model_name": "LayoutModel",
      "state": {}
     },
     "e04ec5f335d24290910356969edf7f64": {
      "model_module": "@jupyter-widgets/controls",
      "model_module_version": "1.4.0",
      "model_name": "VBoxModel",
      "state": {
       "_dom_classes": [
        "widget-interact"
       ],
       "children": [
        "IPY_MODEL_9ec501f72b9e4d649714cbf5f62d8246",
        "IPY_MODEL_6e324eb8e8f447ef8ff78eee6aba2406"
       ],
       "layout": "IPY_MODEL_c324da403244436a8158f46fe53113e0"
      }
     },
     "ed297e0bdfe44336beef3bf58d106a38": {
      "model_module": "@jupyter-widgets/controls",
      "model_module_version": "1.4.0",
      "model_name": "DropdownModel",
      "state": {
       "_options_labels": [
        "aliceblue",
        "antiquewhite",
        "aqua",
        "aquamarine",
        "automatic",
        "azure",
        "beige",
        "bisque",
        "black",
        "blanchedalmond",
        "blue",
        "blueviolet",
        "brown",
        "burlywood",
        "cadetblue",
        "chartreuse",
        "chocolate",
        "coral",
        "cornflowerblue",
        "cornsilk",
        "crimson",
        "cyan",
        "darkblue",
        "darkcyan",
        "darkgoldenrod",
        "darkgray",
        "darkgreen",
        "darkgrey",
        "darkkhaki",
        "darkmagenta",
        "darkolivegreen",
        "darkorange",
        "darkorchid",
        "darkred",
        "darksalmon",
        "darkseagreen",
        "darkslateblue",
        "darkslategray",
        "darkslategrey",
        "darkturquoise",
        "darkviolet",
        "deeppink",
        "deepskyblue",
        "dimgray",
        "dimgrey",
        "dodgerblue",
        "firebrick",
        "floralwhite",
        "forestgreen",
        "fuchsia",
        "gainsboro",
        "ghostwhite",
        "gold",
        "goldenrod",
        "gray",
        "green",
        "greenyellow",
        "grey",
        "honeydew",
        "hotpink",
        "indianred",
        "indigo",
        "ivory",
        "khaki",
        "lavender",
        "lavenderblush",
        "lawngreen",
        "lemonchiffon",
        "lightblue",
        "lightcoral",
        "lightcyan",
        "lightgoldenrodyellow",
        "lightgray",
        "lightgreen",
        "lightgrey",
        "lightpink",
        "lightsalmon",
        "lightseagreen",
        "lightskyblue",
        "lightslategray",
        "lightslategrey",
        "lightsteelblue",
        "lightyellow",
        "lime",
        "limegreen",
        "linen",
        "magenta",
        "maroon",
        "mediumaquamarine",
        "mediumblue",
        "mediumorchid",
        "mediumpurple",
        "mediumseagreen",
        "mediumslateblue",
        "mediumspringgreen",
        "mediumturquoise",
        "mediumvioletred",
        "midnightblue",
        "mintcream",
        "mistyrose",
        "moccasin",
        "navajowhite",
        "navy",
        "oldlace",
        "olive",
        "olivedrab",
        "orange",
        "orangered",
        "orchid",
        "palegoldenrod",
        "palegreen",
        "paleturquoise",
        "palevioletred",
        "papayawhip",
        "peachpuff",
        "peru",
        "pink",
        "plum",
        "powderblue",
        "purple",
        "red",
        "rosybrown",
        "royalblue",
        "saddlebrown",
        "salmon",
        "sandybrown",
        "seagreen",
        "seashell",
        "sienna",
        "silver",
        "skyblue",
        "slateblue",
        "slategray",
        "slategrey",
        "snow",
        "springgreen",
        "steelblue",
        "tan",
        "teal",
        "thistle",
        "tomato",
        "turquoise",
        "violet",
        "wheat",
        "white",
        "whitesmoke",
        "yellow",
        "yellowgreen"
       ],
       "description": "Color",
       "index": 0,
       "layout": "IPY_MODEL_f99d790aa61842c99dcdbb770f4ba9ff",
       "style": "IPY_MODEL_4e65d7fcbcb946ce873f610aab193ace"
      }
     },
     "ee1b172e02d1439687a33e1f3f22af9d": {
      "model_module": "@jupyter-widgets/base",
      "model_module_version": "1.1.0",
      "model_name": "LayoutModel",
      "state": {}
     },
     "ef149732312b4260b90f39c82f8520dc": {
      "model_module": "@jupyter-widgets/base",
      "model_module_version": "1.1.0",
      "model_name": "LayoutModel",
      "state": {}
     },
     "efd75343c90f4ee8b467e5168cef8511": {
      "model_module": "@jupyter-widgets/base",
      "model_module_version": "1.1.0",
      "model_name": "LayoutModel",
      "state": {}
     },
     "f883221d8b6f45368a3613870a882580": {
      "model_module": "@jupyter-widgets/base",
      "model_module_version": "1.1.0",
      "model_name": "LayoutModel",
      "state": {}
     },
     "f99d790aa61842c99dcdbb770f4ba9ff": {
      "model_module": "@jupyter-widgets/base",
      "model_module_version": "1.1.0",
      "model_name": "LayoutModel",
      "state": {}
     }
    },
    "version_major": 2,
    "version_minor": 0
   }
  }
 },
 "nbformat": 4,
 "nbformat_minor": 2
}
